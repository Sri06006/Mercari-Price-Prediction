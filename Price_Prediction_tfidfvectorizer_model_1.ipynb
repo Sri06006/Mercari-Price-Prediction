{
 "cells": [
  {
   "cell_type": "code",
   "execution_count": 1,
   "metadata": {},
   "outputs": [
    {
     "name": "stderr",
     "output_type": "stream",
     "text": [
      "Using TensorFlow backend.\n"
     ]
    }
   ],
   "source": [
    "import os\n",
    "import pandas as pd\n",
    "import numpy as np\n",
    "from keras.models import Sequential\n",
    "from keras.layers import Dense\n",
    "from keras.layers import LSTM\n",
    "from keras.layers.embeddings import Embedding\n",
    "from keras.layers import Dropout\n",
    "from keras.preprocessing import sequence\n",
    "from sklearn.feature_extraction.text import CountVectorizer, TfidfVectorizer\n",
    "from sklearn.feature_extraction.text import TfidfVectorizer\n",
    "\n",
    "import re\n",
    "import gc\n",
    "import scipy\n"
   ]
  },
  {
   "cell_type": "code",
   "execution_count": 2,
   "metadata": {
    "collapsed": true
   },
   "outputs": [],
   "source": [
    "os.getcwd()\n",
    "os.chdir(\"C:\\\\Users\\\\srita\\\\Python\\\\Kaggle\\\\Mercari Price Challenge\")"
   ]
  },
  {
   "cell_type": "code",
   "execution_count": 3,
   "metadata": {
    "collapsed": true
   },
   "outputs": [],
   "source": [
    "#Read the data\n",
    "df = pd.read_csv(\"train.tsv\",delimiter='\\t',encoding='utf-8')"
   ]
  },
  {
   "cell_type": "code",
   "execution_count": 4,
   "metadata": {},
   "outputs": [
    {
     "data": {
      "text/html": [
       "<div>\n",
       "<style scoped>\n",
       "    .dataframe tbody tr th:only-of-type {\n",
       "        vertical-align: middle;\n",
       "    }\n",
       "\n",
       "    .dataframe tbody tr th {\n",
       "        vertical-align: top;\n",
       "    }\n",
       "\n",
       "    .dataframe thead th {\n",
       "        text-align: right;\n",
       "    }\n",
       "</style>\n",
       "<table border=\"1\" class=\"dataframe\">\n",
       "  <thead>\n",
       "    <tr style=\"text-align: right;\">\n",
       "      <th></th>\n",
       "      <th>train_id</th>\n",
       "      <th>name</th>\n",
       "      <th>item_condition_id</th>\n",
       "      <th>category_name</th>\n",
       "      <th>brand_name</th>\n",
       "      <th>price</th>\n",
       "      <th>shipping</th>\n",
       "      <th>item_description</th>\n",
       "    </tr>\n",
       "  </thead>\n",
       "  <tbody>\n",
       "    <tr>\n",
       "      <th>774893</th>\n",
       "      <td>774893</td>\n",
       "      <td>Mario and luigi</td>\n",
       "      <td>1</td>\n",
       "      <td>Kids/Toys/Dress Up &amp; Pretend Play</td>\n",
       "      <td>NaN</td>\n",
       "      <td>18.0</td>\n",
       "      <td>1</td>\n",
       "      <td>Girls costumes. I can separate or i will sell ...</td>\n",
       "    </tr>\n",
       "    <tr>\n",
       "      <th>431736</th>\n",
       "      <td>431736</td>\n",
       "      <td>Air Jordan Baron 9</td>\n",
       "      <td>3</td>\n",
       "      <td>Men/Shoes/Athletic</td>\n",
       "      <td>Jordan</td>\n",
       "      <td>91.0</td>\n",
       "      <td>0</td>\n",
       "      <td>Sz 10.5 Good preowned condition Includes origi...</td>\n",
       "    </tr>\n",
       "    <tr>\n",
       "      <th>1482299</th>\n",
       "      <td>1482299</td>\n",
       "      <td>Dooney &amp; Bourke Wallet</td>\n",
       "      <td>3</td>\n",
       "      <td>Women/Women's Accessories/Wallets</td>\n",
       "      <td>Dooney &amp; Bourke</td>\n",
       "      <td>20.0</td>\n",
       "      <td>1</td>\n",
       "      <td>D&amp;B wallet with credit card slots and back coi...</td>\n",
       "    </tr>\n",
       "    <tr>\n",
       "      <th>764342</th>\n",
       "      <td>764342</td>\n",
       "      <td>Lululemon Floral Waistband Speed Tights</td>\n",
       "      <td>3</td>\n",
       "      <td>Women/Athletic Apparel/Pants, Tights, Leggings</td>\n",
       "      <td>Lululemon</td>\n",
       "      <td>66.0</td>\n",
       "      <td>0</td>\n",
       "      <td>This is a pair of size 6 speed tights in great...</td>\n",
       "    </tr>\n",
       "    <tr>\n",
       "      <th>781985</th>\n",
       "      <td>781985</td>\n",
       "      <td>American Eagle Top</td>\n",
       "      <td>2</td>\n",
       "      <td>Women/Athletic Apparel/Shirts &amp; Tops</td>\n",
       "      <td>American Eagle</td>\n",
       "      <td>19.0</td>\n",
       "      <td>0</td>\n",
       "      <td>AEO off the shoulder top size XL</td>\n",
       "    </tr>\n",
       "  </tbody>\n",
       "</table>\n",
       "</div>"
      ],
      "text/plain": [
       "         train_id                                     name  item_condition_id  \\\n",
       "774893     774893                          Mario and luigi                  1   \n",
       "431736     431736                       Air Jordan Baron 9                  3   \n",
       "1482299   1482299                   Dooney & Bourke Wallet                  3   \n",
       "764342     764342  Lululemon Floral Waistband Speed Tights                  3   \n",
       "781985     781985                       American Eagle Top                  2   \n",
       "\n",
       "                                          category_name       brand_name  \\\n",
       "774893                Kids/Toys/Dress Up & Pretend Play              NaN   \n",
       "431736                               Men/Shoes/Athletic           Jordan   \n",
       "1482299               Women/Women's Accessories/Wallets  Dooney & Bourke   \n",
       "764342   Women/Athletic Apparel/Pants, Tights, Leggings        Lululemon   \n",
       "781985             Women/Athletic Apparel/Shirts & Tops   American Eagle   \n",
       "\n",
       "         price  shipping                                   item_description  \n",
       "774893    18.0         1  Girls costumes. I can separate or i will sell ...  \n",
       "431736    91.0         0  Sz 10.5 Good preowned condition Includes origi...  \n",
       "1482299   20.0         1  D&B wallet with credit card slots and back coi...  \n",
       "764342    66.0         0  This is a pair of size 6 speed tights in great...  \n",
       "781985    19.0         0                   AEO off the shoulder top size XL  "
      ]
     },
     "execution_count": 4,
     "metadata": {},
     "output_type": "execute_result"
    }
   ],
   "source": [
    "# Sample the data to speed up computation\n",
    "df = df.sample(frac=0.1, random_state=10)\n",
    "\n",
    "df.head()"
   ]
  },
  {
   "cell_type": "code",
   "execution_count": 5,
   "metadata": {},
   "outputs": [
    {
     "data": {
      "text/html": [
       "<div>\n",
       "<style scoped>\n",
       "    .dataframe tbody tr th:only-of-type {\n",
       "        vertical-align: middle;\n",
       "    }\n",
       "\n",
       "    .dataframe tbody tr th {\n",
       "        vertical-align: top;\n",
       "    }\n",
       "\n",
       "    .dataframe thead th {\n",
       "        text-align: right;\n",
       "    }\n",
       "</style>\n",
       "<table border=\"1\" class=\"dataframe\">\n",
       "  <thead>\n",
       "    <tr style=\"text-align: right;\">\n",
       "      <th></th>\n",
       "      <th>name</th>\n",
       "      <th>item_condition_id</th>\n",
       "      <th>category_name</th>\n",
       "      <th>brand_name</th>\n",
       "      <th>price</th>\n",
       "      <th>shipping</th>\n",
       "      <th>item_description</th>\n",
       "    </tr>\n",
       "    <tr>\n",
       "      <th>train_id</th>\n",
       "      <th></th>\n",
       "      <th></th>\n",
       "      <th></th>\n",
       "      <th></th>\n",
       "      <th></th>\n",
       "      <th></th>\n",
       "      <th></th>\n",
       "    </tr>\n",
       "  </thead>\n",
       "  <tbody>\n",
       "    <tr>\n",
       "      <th>431736</th>\n",
       "      <td>Air Jordan Baron 9</td>\n",
       "      <td>3</td>\n",
       "      <td>Men/Shoes/Athletic</td>\n",
       "      <td>Jordan</td>\n",
       "      <td>91.0</td>\n",
       "      <td>0</td>\n",
       "      <td>Sz 10.5 Good preowned condition Includes origi...</td>\n",
       "    </tr>\n",
       "    <tr>\n",
       "      <th>1482299</th>\n",
       "      <td>Dooney &amp; Bourke Wallet</td>\n",
       "      <td>3</td>\n",
       "      <td>Women/Women's Accessories/Wallets</td>\n",
       "      <td>Dooney &amp; Bourke</td>\n",
       "      <td>20.0</td>\n",
       "      <td>1</td>\n",
       "      <td>D&amp;B wallet with credit card slots and back coi...</td>\n",
       "    </tr>\n",
       "    <tr>\n",
       "      <th>764342</th>\n",
       "      <td>Lululemon Floral Waistband Speed Tights</td>\n",
       "      <td>3</td>\n",
       "      <td>Women/Athletic Apparel/Pants, Tights, Leggings</td>\n",
       "      <td>Lululemon</td>\n",
       "      <td>66.0</td>\n",
       "      <td>0</td>\n",
       "      <td>This is a pair of size 6 speed tights in great...</td>\n",
       "    </tr>\n",
       "    <tr>\n",
       "      <th>781985</th>\n",
       "      <td>American Eagle Top</td>\n",
       "      <td>2</td>\n",
       "      <td>Women/Athletic Apparel/Shirts &amp; Tops</td>\n",
       "      <td>American Eagle</td>\n",
       "      <td>19.0</td>\n",
       "      <td>0</td>\n",
       "      <td>AEO off the shoulder top size XL</td>\n",
       "    </tr>\n",
       "    <tr>\n",
       "      <th>590192</th>\n",
       "      <td>Nike crop leggings size medium</td>\n",
       "      <td>3</td>\n",
       "      <td>Women/Athletic Apparel/Pants, Tights, Leggings</td>\n",
       "      <td>Nike</td>\n",
       "      <td>12.0</td>\n",
       "      <td>1</td>\n",
       "      <td>Black and white pattern Gently used condition ...</td>\n",
       "    </tr>\n",
       "    <tr>\n",
       "      <th>1244225</th>\n",
       "      <td>Victoria's Secret Makeup Bag - NEW!</td>\n",
       "      <td>1</td>\n",
       "      <td>Women/Women's Handbags/Cosmetic Bags</td>\n",
       "      <td>Victoria's Secret</td>\n",
       "      <td>7.0</td>\n",
       "      <td>1</td>\n",
       "      <td>Includes: Victoria's Secret Makeup Bag - New w...</td>\n",
       "    </tr>\n",
       "    <tr>\n",
       "      <th>1308385</th>\n",
       "      <td>Starbucks holiday cozy cup sleeve</td>\n",
       "      <td>1</td>\n",
       "      <td>Home/Kitchen &amp; Dining/Coffee &amp; Tea Accessories</td>\n",
       "      <td>Starbucks</td>\n",
       "      <td>8.0</td>\n",
       "      <td>1</td>\n",
       "      <td>Perfect holiday gift that goes great with a mu...</td>\n",
       "    </tr>\n",
       "    <tr>\n",
       "      <th>124724</th>\n",
       "      <td>Lego 76040 Brainiac Attack</td>\n",
       "      <td>1</td>\n",
       "      <td>Kids/Toys/Building Toys</td>\n",
       "      <td>LEGO</td>\n",
       "      <td>37.0</td>\n",
       "      <td>1</td>\n",
       "      <td>No description yet</td>\n",
       "    </tr>\n",
       "    <tr>\n",
       "      <th>605273</th>\n",
       "      <td>Clinique HAPPY perfume gift set</td>\n",
       "      <td>1</td>\n",
       "      <td>Beauty/Fragrance/Women</td>\n",
       "      <td>Clinique</td>\n",
       "      <td>80.0</td>\n",
       "      <td>1</td>\n",
       "      <td>Free priority shipping included! Super deluxe ...</td>\n",
       "    </tr>\n",
       "    <tr>\n",
       "      <th>1184451</th>\n",
       "      <td>Women's Pink Tee Shirt From Aeropostale</td>\n",
       "      <td>2</td>\n",
       "      <td>Women/Tops &amp; Blouses/T-Shirts</td>\n",
       "      <td>Aeropostale</td>\n",
       "      <td>8.0</td>\n",
       "      <td>1</td>\n",
       "      <td>Women's, size large pink tee shirt from Aer0p0...</td>\n",
       "    </tr>\n",
       "    <tr>\n",
       "      <th>901971</th>\n",
       "      <td>North face backpack</td>\n",
       "      <td>2</td>\n",
       "      <td>Sports &amp; Outdoors/Apparel/Accessories</td>\n",
       "      <td>The North Face</td>\n",
       "      <td>52.0</td>\n",
       "      <td>1</td>\n",
       "      <td>Never used, just don't need it Works great for...</td>\n",
       "    </tr>\n",
       "    <tr>\n",
       "      <th>55717</th>\n",
       "      <td>Littlest pet shop lps animals</td>\n",
       "      <td>3</td>\n",
       "      <td>Kids/Toys/Action Figures &amp; Statues</td>\n",
       "      <td>Littlest Pet Shop</td>\n",
       "      <td>10.0</td>\n",
       "      <td>0</td>\n",
       "      <td>Comes with all shown. In slight played with co...</td>\n",
       "    </tr>\n",
       "    <tr>\n",
       "      <th>468415</th>\n",
       "      <td>Lilly Pulitzer Sample Shorts</td>\n",
       "      <td>3</td>\n",
       "      <td>Women/Athletic Apparel/Shorts</td>\n",
       "      <td>Lilly Pulitzer</td>\n",
       "      <td>49.0</td>\n",
       "      <td>0</td>\n",
       "      <td>Size small. Pom Poms on bottom starting to com...</td>\n",
       "    </tr>\n",
       "    <tr>\n",
       "      <th>246641</th>\n",
       "      <td>Louis Vuitton Emilie Wallet</td>\n",
       "      <td>2</td>\n",
       "      <td>Women/Women's Accessories/Wallets</td>\n",
       "      <td>Louis Vuitton</td>\n",
       "      <td>304.0</td>\n",
       "      <td>0</td>\n",
       "      <td>Authentic Guaranteed. Perfect condition. Used ...</td>\n",
       "    </tr>\n",
       "    <tr>\n",
       "      <th>240863</th>\n",
       "      <td>Denim Jacket</td>\n",
       "      <td>3</td>\n",
       "      <td>Women/Coats &amp; Jackets/Jean Jacket</td>\n",
       "      <td>Jou Jou</td>\n",
       "      <td>15.0</td>\n",
       "      <td>1</td>\n",
       "      <td>No description yet</td>\n",
       "    </tr>\n",
       "    <tr>\n",
       "      <th>459158</th>\n",
       "      <td>NEW Twisted Peppermint Liplicious</td>\n",
       "      <td>1</td>\n",
       "      <td>Beauty/Makeup/Lips</td>\n",
       "      <td>Bath &amp; Body Works</td>\n",
       "      <td>8.0</td>\n",
       "      <td>1</td>\n",
       "      <td>SEALED 2016! Free shipping</td>\n",
       "    </tr>\n",
       "    <tr>\n",
       "      <th>913893</th>\n",
       "      <td>Mario Badescu Seaweed Night Cream</td>\n",
       "      <td>3</td>\n",
       "      <td>Beauty/Skin Care/Face</td>\n",
       "      <td>Sephora</td>\n",
       "      <td>6.0</td>\n",
       "      <td>1</td>\n",
       "      <td>There's about half of the product left in the ...</td>\n",
       "    </tr>\n",
       "    <tr>\n",
       "      <th>1246592</th>\n",
       "      <td>Tony hawk American wasteland</td>\n",
       "      <td>3</td>\n",
       "      <td>Electronics/Video Games &amp; Consoles/Games</td>\n",
       "      <td>Xbox</td>\n",
       "      <td>7.0</td>\n",
       "      <td>0</td>\n",
       "      <td>No description yet</td>\n",
       "    </tr>\n",
       "    <tr>\n",
       "      <th>575409</th>\n",
       "      <td>Make offers!! MISS me jeans size 28!</td>\n",
       "      <td>3</td>\n",
       "      <td>Women/Jeans/Boot Cut</td>\n",
       "      <td>Miss Me</td>\n",
       "      <td>31.0</td>\n",
       "      <td>0</td>\n",
       "      <td>In good condition except one of the back jewel...</td>\n",
       "    </tr>\n",
       "    <tr>\n",
       "      <th>612050</th>\n",
       "      <td>VS Very Sexy halter unlined bra 36C</td>\n",
       "      <td>1</td>\n",
       "      <td>Women/Underwear/Bras</td>\n",
       "      <td>Victoria's Secret</td>\n",
       "      <td>20.0</td>\n",
       "      <td>1</td>\n",
       "      <td>New with tags 36C</td>\n",
       "    </tr>\n",
       "    <tr>\n",
       "      <th>1006124</th>\n",
       "      <td>Tory Butch Reva flats</td>\n",
       "      <td>3</td>\n",
       "      <td>Women/Shoes/Flats</td>\n",
       "      <td>Tory Burch</td>\n",
       "      <td>49.0</td>\n",
       "      <td>0</td>\n",
       "      <td>Tory Butch Reva flats in reddish/orange. Size ...</td>\n",
       "    </tr>\n",
       "    <tr>\n",
       "      <th>686653</th>\n",
       "      <td>Glade Bundle</td>\n",
       "      <td>1</td>\n",
       "      <td>Home/Home Décor/Home Fragrance</td>\n",
       "      <td>Glade</td>\n",
       "      <td>13.0</td>\n",
       "      <td>0</td>\n",
       "      <td>No description yet</td>\n",
       "    </tr>\n",
       "    <tr>\n",
       "      <th>316019</th>\n",
       "      <td>Girls Gap French Cat Long Sleeve Top</td>\n",
       "      <td>2</td>\n",
       "      <td>Kids/Girls (4+)/Tops &amp; T-Shirts</td>\n",
       "      <td>Gap</td>\n",
       "      <td>6.0</td>\n",
       "      <td>1</td>\n",
       "      <td>SIZE:12 FREE SHIPPING,,,, FREE SHIPPING,,,, Th...</td>\n",
       "    </tr>\n",
       "    <tr>\n",
       "      <th>1360568</th>\n",
       "      <td>Pink sandals</td>\n",
       "      <td>1</td>\n",
       "      <td>Women/Shoes/Sandals</td>\n",
       "      <td>PINK</td>\n",
       "      <td>24.0</td>\n",
       "      <td>0</td>\n",
       "      <td>Victoria's secret pink sandals. \"Beach Please\"...</td>\n",
       "    </tr>\n",
       "    <tr>\n",
       "      <th>999228</th>\n",
       "      <td>Tony Hawk Pro Skater Nintendo 64 N64</td>\n",
       "      <td>3</td>\n",
       "      <td>Vintage &amp; Collectibles/Electronics/Video Game</td>\n",
       "      <td>Nintendo</td>\n",
       "      <td>11.0</td>\n",
       "      <td>1</td>\n",
       "      <td>TRACK YOUR PACKAGE We usually ship within 2 da...</td>\n",
       "    </tr>\n",
       "    <tr>\n",
       "      <th>752682</th>\n",
       "      <td>Baby swim suit 3-6months / FREESHIP</td>\n",
       "      <td>3</td>\n",
       "      <td>Kids/Boys 0-24 Mos/Swimwear</td>\n",
       "      <td>Disney</td>\n",
       "      <td>9.0</td>\n",
       "      <td>1</td>\n",
       "      <td>Mickey Mouse swim trunks and rash guard. Purch...</td>\n",
       "    </tr>\n",
       "    <tr>\n",
       "      <th>63178</th>\n",
       "      <td>Fiona Stiles Sheer Sculpting Palette</td>\n",
       "      <td>4</td>\n",
       "      <td>Beauty/Makeup/Makeup Palettes</td>\n",
       "      <td>Sephora</td>\n",
       "      <td>15.0</td>\n",
       "      <td>1</td>\n",
       "      <td>Fiona Stiles Sheer Sculpting Palette in Light/...</td>\n",
       "    </tr>\n",
       "    <tr>\n",
       "      <th>10923</th>\n",
       "      <td>Bath and body 3 wick candle</td>\n",
       "      <td>1</td>\n",
       "      <td>Beauty/Fragrance/Candles &amp; Home Scents</td>\n",
       "      <td>Bath &amp; Body Works</td>\n",
       "      <td>17.0</td>\n",
       "      <td>0</td>\n",
       "      <td>Mahogany teakwood. New and smells awesome</td>\n",
       "    </tr>\n",
       "    <tr>\n",
       "      <th>937215</th>\n",
       "      <td>Rae Dunn Nope Grrrr Mugs (Set of 2)</td>\n",
       "      <td>1</td>\n",
       "      <td>Home/Kitchen &amp; Dining/Coffee &amp; Tea Accessories</td>\n",
       "      <td>Rae Dunn</td>\n",
       "      <td>22.0</td>\n",
       "      <td>0</td>\n",
       "      <td>***Will package with great care!*** There may ...</td>\n",
       "    </tr>\n",
       "    <tr>\n",
       "      <th>40624</th>\n",
       "      <td>Gymshark Flex Leggings</td>\n",
       "      <td>2</td>\n",
       "      <td>Women/Jeans/Leggings</td>\n",
       "      <td>Gymshark</td>\n",
       "      <td>39.0</td>\n",
       "      <td>0</td>\n",
       "      <td>Worn twice new condition size Medium</td>\n",
       "    </tr>\n",
       "    <tr>\n",
       "      <th>...</th>\n",
       "      <td>...</td>\n",
       "      <td>...</td>\n",
       "      <td>...</td>\n",
       "      <td>...</td>\n",
       "      <td>...</td>\n",
       "      <td>...</td>\n",
       "      <td>...</td>\n",
       "    </tr>\n",
       "    <tr>\n",
       "      <th>1205583</th>\n",
       "      <td>Girl Dog clothes</td>\n",
       "      <td>3</td>\n",
       "      <td>Other/Pet Supplies/Dogs</td>\n",
       "      <td>PetSmart</td>\n",
       "      <td>11.0</td>\n",
       "      <td>0</td>\n",
       "      <td>All are size small, fits chihuahuas up to ~9 lbs.</td>\n",
       "    </tr>\n",
       "    <tr>\n",
       "      <th>535500</th>\n",
       "      <td>Bbw for men 3 piece set</td>\n",
       "      <td>1</td>\n",
       "      <td>Beauty/Bath &amp; Body/Sets</td>\n",
       "      <td>Bath &amp; Body Works</td>\n",
       "      <td>25.0</td>\n",
       "      <td>1</td>\n",
       "      <td>Bath and body works for men 3 piece set. 3 2 i...</td>\n",
       "    </tr>\n",
       "    <tr>\n",
       "      <th>1406331</th>\n",
       "      <td>Black Friday box</td>\n",
       "      <td>1</td>\n",
       "      <td>Vintage &amp; Collectibles/Toy/Action Figure</td>\n",
       "      <td>Funko</td>\n",
       "      <td>30.0</td>\n",
       "      <td>1</td>\n",
       "      <td>yellow power ranger. Everything is still unwra...</td>\n",
       "    </tr>\n",
       "    <tr>\n",
       "      <th>511755</th>\n",
       "      <td>Pink bundle</td>\n",
       "      <td>1</td>\n",
       "      <td>Beauty/Fragrance/Women</td>\n",
       "      <td>Victoria's Secret</td>\n",
       "      <td>21.0</td>\n",
       "      <td>0</td>\n",
       "      <td>Includes 1 perfume and 2 lotions Scents are: F...</td>\n",
       "    </tr>\n",
       "    <tr>\n",
       "      <th>1103030</th>\n",
       "      <td>Clinique Acne Solution</td>\n",
       "      <td>3</td>\n",
       "      <td>Beauty/Skin Care/Face</td>\n",
       "      <td>Clinique</td>\n",
       "      <td>27.0</td>\n",
       "      <td>0</td>\n",
       "      <td>Clarifying lotion has a little more than half ...</td>\n",
       "    </tr>\n",
       "    <tr>\n",
       "      <th>920452</th>\n",
       "      <td>Reebok Nano Web</td>\n",
       "      <td>3</td>\n",
       "      <td>Women/Shoes/Athletic</td>\n",
       "      <td>Reebok</td>\n",
       "      <td>36.0</td>\n",
       "      <td>0</td>\n",
       "      <td>Reebok Nano Web training sneakers. Orange and ...</td>\n",
       "    </tr>\n",
       "    <tr>\n",
       "      <th>1113315</th>\n",
       "      <td>Michael Kors Parker MK watch MK5925</td>\n",
       "      <td>1</td>\n",
       "      <td>Women/Women's Accessories/Watches</td>\n",
       "      <td>Michael Kors</td>\n",
       "      <td>120.0</td>\n",
       "      <td>1</td>\n",
       "      <td>LAST 1! Authentic MK5925 Model: Parker Retail:...</td>\n",
       "    </tr>\n",
       "    <tr>\n",
       "      <th>1124651</th>\n",
       "      <td>FREE SHIPPING! h&amp;m navy dress</td>\n",
       "      <td>2</td>\n",
       "      <td>Women/Dresses/Knee-Length</td>\n",
       "      <td>H&amp;M</td>\n",
       "      <td>12.0</td>\n",
       "      <td>1</td>\n",
       "      <td>Beautiful polka dot navy dress. Hardly used. T...</td>\n",
       "    </tr>\n",
       "    <tr>\n",
       "      <th>86200</th>\n",
       "      <td>Lane Bryant size 24 black dress pants</td>\n",
       "      <td>3</td>\n",
       "      <td>Women/Pants/Dress Pants</td>\n",
       "      <td>Lane Bryant</td>\n",
       "      <td>13.0</td>\n",
       "      <td>0</td>\n",
       "      <td>Excellent used condition. Smoke free home.</td>\n",
       "    </tr>\n",
       "    <tr>\n",
       "      <th>875186</th>\n",
       "      <td>Brooch Pin</td>\n",
       "      <td>1</td>\n",
       "      <td>Vintage &amp; Collectibles/Jewelry/Brooch</td>\n",
       "      <td>Chanel</td>\n",
       "      <td>33.0</td>\n",
       "      <td>1</td>\n",
       "      <td>Brooch Pin</td>\n",
       "    </tr>\n",
       "    <tr>\n",
       "      <th>1166181</th>\n",
       "      <td>HTF Canada Dog</td>\n",
       "      <td>3</td>\n",
       "      <td>Vintage &amp; Collectibles/Collectibles/Doll</td>\n",
       "      <td>PINK</td>\n",
       "      <td>84.0</td>\n",
       "      <td>0</td>\n",
       "      <td>Victoria's Secret Pink Canada Dog See photos o...</td>\n",
       "    </tr>\n",
       "    <tr>\n",
       "      <th>1404111</th>\n",
       "      <td>Scentsy Warmer Snow Day bundle</td>\n",
       "      <td>1</td>\n",
       "      <td>Home/Home Décor/Home Fragrance</td>\n",
       "      <td>Scentsy</td>\n",
       "      <td>112.0</td>\n",
       "      <td>0</td>\n",
       "      <td>Snow day Warmer, also Christmas tree warmer an...</td>\n",
       "    </tr>\n",
       "    <tr>\n",
       "      <th>979341</th>\n",
       "      <td>Victoria secret bombshell</td>\n",
       "      <td>1</td>\n",
       "      <td>Beauty/Fragrance/Women</td>\n",
       "      <td>Victoria's Secret</td>\n",
       "      <td>25.0</td>\n",
       "      <td>1</td>\n",
       "      <td>Perfume 3.4 fl oz new with tags</td>\n",
       "    </tr>\n",
       "    <tr>\n",
       "      <th>1464226</th>\n",
       "      <td>MK camo wallet Michael Kors wallet</td>\n",
       "      <td>3</td>\n",
       "      <td>Women/Women's Accessories/Wallets</td>\n",
       "      <td>Michael Kors</td>\n",
       "      <td>55.0</td>\n",
       "      <td>0</td>\n",
       "      <td>Michael Kors Camouflage wallet. Hard to find. ...</td>\n",
       "    </tr>\n",
       "    <tr>\n",
       "      <th>972415</th>\n",
       "      <td>NEW PRICE! Gray and Black Pink Duffle</td>\n",
       "      <td>1</td>\n",
       "      <td>Women/Women's Handbags/Totes &amp; Shoppers</td>\n",
       "      <td>PINK</td>\n",
       "      <td>23.0</td>\n",
       "      <td>1</td>\n",
       "      <td>Brand new, gray duffle with black handles and ...</td>\n",
       "    </tr>\n",
       "    <tr>\n",
       "      <th>1124291</th>\n",
       "      <td>Men's American Eagle Jeans</td>\n",
       "      <td>2</td>\n",
       "      <td>Men/Jeans/Slim, Skinny</td>\n",
       "      <td>American Eagle</td>\n",
       "      <td>18.0</td>\n",
       "      <td>0</td>\n",
       "      <td>Men's American Eagle Jeans size 30x32 skinny</td>\n",
       "    </tr>\n",
       "    <tr>\n",
       "      <th>1059826</th>\n",
       "      <td>Boys Football Forearm Sleeves</td>\n",
       "      <td>2</td>\n",
       "      <td>Sports &amp; Outdoors/Apparel/Boys</td>\n",
       "      <td>Under Armour</td>\n",
       "      <td>14.0</td>\n",
       "      <td>0</td>\n",
       "      <td>Under Armour OSFA Youth Black w/ Gray Brand Ne...</td>\n",
       "    </tr>\n",
       "    <tr>\n",
       "      <th>53855</th>\n",
       "      <td>Lularoe OS polka dots</td>\n",
       "      <td>2</td>\n",
       "      <td>Women/Athletic Apparel/Pants, Tights, Leggings</td>\n",
       "      <td>LuLaRoe</td>\n",
       "      <td>16.0</td>\n",
       "      <td>1</td>\n",
       "      <td>New w/on tag LLR O/S leggings lavender w/ whit...</td>\n",
       "    </tr>\n",
       "    <tr>\n",
       "      <th>839336</th>\n",
       "      <td>American Eagle Denim Distressed Vest</td>\n",
       "      <td>2</td>\n",
       "      <td>Women/Coats &amp; Jackets/Vest</td>\n",
       "      <td>American Eagle</td>\n",
       "      <td>22.0</td>\n",
       "      <td>1</td>\n",
       "      <td>Brand New without tag, never used Size Medium ...</td>\n",
       "    </tr>\n",
       "    <tr>\n",
       "      <th>1367645</th>\n",
       "      <td>Victoria's Secret Crossbody Bag</td>\n",
       "      <td>1</td>\n",
       "      <td>Women/Women's Handbags/Messenger &amp; Crossbody</td>\n",
       "      <td>Victoria's Secret</td>\n",
       "      <td>18.0</td>\n",
       "      <td>1</td>\n",
       "      <td>Enjoy free shipping weekend! Ends Sunday night...</td>\n",
       "    </tr>\n",
       "    <tr>\n",
       "      <th>12635</th>\n",
       "      <td>White converse</td>\n",
       "      <td>4</td>\n",
       "      <td>Women/Shoes/Fashion Sneakers</td>\n",
       "      <td>Converse</td>\n",
       "      <td>18.0</td>\n",
       "      <td>0</td>\n",
       "      <td>No description yet</td>\n",
       "    </tr>\n",
       "    <tr>\n",
       "      <th>580929</th>\n",
       "      <td>Motorola Smart Nursery Humidifier</td>\n",
       "      <td>1</td>\n",
       "      <td>Kids/Health &amp; Baby Care/Humidifiers &amp; Vaporizers</td>\n",
       "      <td>Motorola</td>\n",
       "      <td>60.0</td>\n",
       "      <td>1</td>\n",
       "      <td>Help your baby breathe easy and sleep soundly ...</td>\n",
       "    </tr>\n",
       "    <tr>\n",
       "      <th>435862</th>\n",
       "      <td>VICTORIA SECRET PINK SHORTS</td>\n",
       "      <td>2</td>\n",
       "      <td>Women/Athletic Apparel/Shorts</td>\n",
       "      <td>PINK</td>\n",
       "      <td>20.0</td>\n",
       "      <td>0</td>\n",
       "      <td>BOOTY SHORTS IN GREAT CONDITION MOSTLY FOR SLE...</td>\n",
       "    </tr>\n",
       "    <tr>\n",
       "      <th>412159</th>\n",
       "      <td>VS PINK add to bundle</td>\n",
       "      <td>1</td>\n",
       "      <td>Women/Tops &amp; Blouses/T-Shirts</td>\n",
       "      <td>Victoria's Secret</td>\n",
       "      <td>25.0</td>\n",
       "      <td>1</td>\n",
       "      <td>PRICE FIRM ‼️ Don't ask me for the lowest pric...</td>\n",
       "    </tr>\n",
       "    <tr>\n",
       "      <th>37061</th>\n",
       "      <td>Ibrahimovic Jersey</td>\n",
       "      <td>4</td>\n",
       "      <td>Men/Athletic Apparel/Jerseys</td>\n",
       "      <td>Nike</td>\n",
       "      <td>15.0</td>\n",
       "      <td>1</td>\n",
       "      <td>Decent quality Ibrahimovic Jersey. Free Shipping!</td>\n",
       "    </tr>\n",
       "    <tr>\n",
       "      <th>663109</th>\n",
       "      <td>Grey izod bra 40D</td>\n",
       "      <td>3</td>\n",
       "      <td>Women/Underwear/Bras</td>\n",
       "      <td>IZOD</td>\n",
       "      <td>10.0</td>\n",
       "      <td>0</td>\n",
       "      <td>Barely worn bra with thick cushy straps and un...</td>\n",
       "    </tr>\n",
       "    <tr>\n",
       "      <th>220626</th>\n",
       "      <td>(L) Nike Joggers</td>\n",
       "      <td>3</td>\n",
       "      <td>Women/Athletic Apparel/Pants, Tights, Leggings</td>\n",
       "      <td>Nike</td>\n",
       "      <td>20.0</td>\n",
       "      <td>0</td>\n",
       "      <td>GUC Oversized Cropped No holes, odors or stain...</td>\n",
       "    </tr>\n",
       "    <tr>\n",
       "      <th>1395182</th>\n",
       "      <td>Brand new 10k gold ring</td>\n",
       "      <td>1</td>\n",
       "      <td>Women/Jewelry/Rings</td>\n",
       "      <td>Stamped</td>\n",
       "      <td>57.0</td>\n",
       "      <td>1</td>\n",
       "      <td>This is a brand new 10k white gold 2mm wedding...</td>\n",
       "    </tr>\n",
       "    <tr>\n",
       "      <th>945090</th>\n",
       "      <td>Marmeep 10/21</td>\n",
       "      <td>3</td>\n",
       "      <td>Kids/Toys/Dolls &amp; Accessories</td>\n",
       "      <td>Accessory Workshop</td>\n",
       "      <td>30.0</td>\n",
       "      <td>1</td>\n",
       "      <td>Girls Build A Bear clothes, footwear and acces...</td>\n",
       "    </tr>\n",
       "    <tr>\n",
       "      <th>16806</th>\n",
       "      <td>Louis Vuitton White Monograph Wallet</td>\n",
       "      <td>1</td>\n",
       "      <td>Men/Men's Accessories/Wallets</td>\n",
       "      <td>Louis Vuitton</td>\n",
       "      <td>59.0</td>\n",
       "      <td>0</td>\n",
       "      <td>Box, bag, and papers included</td>\n",
       "    </tr>\n",
       "  </tbody>\n",
       "</table>\n",
       "<p>84610 rows × 7 columns</p>\n",
       "</div>"
      ],
      "text/plain": [
       "                                             name  item_condition_id  \\\n",
       "train_id                                                               \n",
       "431736                         Air Jordan Baron 9                  3   \n",
       "1482299                    Dooney & Bourke Wallet                  3   \n",
       "764342    Lululemon Floral Waistband Speed Tights                  3   \n",
       "781985                         American Eagle Top                  2   \n",
       "590192             Nike crop leggings size medium                  3   \n",
       "1244225       Victoria's Secret Makeup Bag - NEW!                  1   \n",
       "1308385         Starbucks holiday cozy cup sleeve                  1   \n",
       "124724                 Lego 76040 Brainiac Attack                  1   \n",
       "605273            Clinique HAPPY perfume gift set                  1   \n",
       "1184451   Women's Pink Tee Shirt From Aeropostale                  2   \n",
       "901971                        North face backpack                  2   \n",
       "55717               Littlest pet shop lps animals                  3   \n",
       "468415               Lilly Pulitzer Sample Shorts                  3   \n",
       "246641                Louis Vuitton Emilie Wallet                  2   \n",
       "240863                               Denim Jacket                  3   \n",
       "459158          NEW Twisted Peppermint Liplicious                  1   \n",
       "913893          Mario Badescu Seaweed Night Cream                  3   \n",
       "1246592              Tony hawk American wasteland                  3   \n",
       "575409       Make offers!! MISS me jeans size 28!                  3   \n",
       "612050        VS Very Sexy halter unlined bra 36C                  1   \n",
       "1006124                     Tory Butch Reva flats                  3   \n",
       "686653                               Glade Bundle                  1   \n",
       "316019       Girls Gap French Cat Long Sleeve Top                  2   \n",
       "1360568                              Pink sandals                  1   \n",
       "999228       Tony Hawk Pro Skater Nintendo 64 N64                  3   \n",
       "752682        Baby swim suit 3-6months / FREESHIP                  3   \n",
       "63178        Fiona Stiles Sheer Sculpting Palette                  4   \n",
       "10923                 Bath and body 3 wick candle                  1   \n",
       "937215        Rae Dunn Nope Grrrr Mugs (Set of 2)                  1   \n",
       "40624                      Gymshark Flex Leggings                  2   \n",
       "...                                           ...                ...   \n",
       "1205583                          Girl Dog clothes                  3   \n",
       "535500                    Bbw for men 3 piece set                  1   \n",
       "1406331                          Black Friday box                  1   \n",
       "511755                                Pink bundle                  1   \n",
       "1103030                    Clinique Acne Solution                  3   \n",
       "920452                            Reebok Nano Web                  3   \n",
       "1113315       Michael Kors Parker MK watch MK5925                  1   \n",
       "1124651             FREE SHIPPING! h&m navy dress                  2   \n",
       "86200       Lane Bryant size 24 black dress pants                  3   \n",
       "875186                                 Brooch Pin                  1   \n",
       "1166181                            HTF Canada Dog                  3   \n",
       "1404111            Scentsy Warmer Snow Day bundle                  1   \n",
       "979341                  Victoria secret bombshell                  1   \n",
       "1464226        MK camo wallet Michael Kors wallet                  3   \n",
       "972415      NEW PRICE! Gray and Black Pink Duffle                  1   \n",
       "1124291                Men's American Eagle Jeans                  2   \n",
       "1059826             Boys Football Forearm Sleeves                  2   \n",
       "53855                       Lularoe OS polka dots                  2   \n",
       "839336       American Eagle Denim Distressed Vest                  2   \n",
       "1367645           Victoria's Secret Crossbody Bag                  1   \n",
       "12635                              White converse                  4   \n",
       "580929          Motorola Smart Nursery Humidifier                  1   \n",
       "435862                VICTORIA SECRET PINK SHORTS                  2   \n",
       "412159                      VS PINK add to bundle                  1   \n",
       "37061                          Ibrahimovic Jersey                  4   \n",
       "663109                          Grey izod bra 40D                  3   \n",
       "220626                           (L) Nike Joggers                  3   \n",
       "1395182                   Brand new 10k gold ring                  1   \n",
       "945090                              Marmeep 10/21                  3   \n",
       "16806        Louis Vuitton White Monograph Wallet                  1   \n",
       "\n",
       "                                             category_name  \\\n",
       "train_id                                                     \n",
       "431736                                  Men/Shoes/Athletic   \n",
       "1482299                  Women/Women's Accessories/Wallets   \n",
       "764342      Women/Athletic Apparel/Pants, Tights, Leggings   \n",
       "781985                Women/Athletic Apparel/Shirts & Tops   \n",
       "590192      Women/Athletic Apparel/Pants, Tights, Leggings   \n",
       "1244225               Women/Women's Handbags/Cosmetic Bags   \n",
       "1308385     Home/Kitchen & Dining/Coffee & Tea Accessories   \n",
       "124724                             Kids/Toys/Building Toys   \n",
       "605273                              Beauty/Fragrance/Women   \n",
       "1184451                      Women/Tops & Blouses/T-Shirts   \n",
       "901971               Sports & Outdoors/Apparel/Accessories   \n",
       "55717                   Kids/Toys/Action Figures & Statues   \n",
       "468415                       Women/Athletic Apparel/Shorts   \n",
       "246641                   Women/Women's Accessories/Wallets   \n",
       "240863                   Women/Coats & Jackets/Jean Jacket   \n",
       "459158                                  Beauty/Makeup/Lips   \n",
       "913893                               Beauty/Skin Care/Face   \n",
       "1246592           Electronics/Video Games & Consoles/Games   \n",
       "575409                                Women/Jeans/Boot Cut   \n",
       "612050                                Women/Underwear/Bras   \n",
       "1006124                                  Women/Shoes/Flats   \n",
       "686653                      Home/Home Décor/Home Fragrance   \n",
       "316019                     Kids/Girls (4+)/Tops & T-Shirts   \n",
       "1360568                                Women/Shoes/Sandals   \n",
       "999228       Vintage & Collectibles/Electronics/Video Game   \n",
       "752682                         Kids/Boys 0-24 Mos/Swimwear   \n",
       "63178                        Beauty/Makeup/Makeup Palettes   \n",
       "10923               Beauty/Fragrance/Candles & Home Scents   \n",
       "937215      Home/Kitchen & Dining/Coffee & Tea Accessories   \n",
       "40624                                 Women/Jeans/Leggings   \n",
       "...                                                    ...   \n",
       "1205583                            Other/Pet Supplies/Dogs   \n",
       "535500                             Beauty/Bath & Body/Sets   \n",
       "1406331           Vintage & Collectibles/Toy/Action Figure   \n",
       "511755                              Beauty/Fragrance/Women   \n",
       "1103030                              Beauty/Skin Care/Face   \n",
       "920452                                Women/Shoes/Athletic   \n",
       "1113315                  Women/Women's Accessories/Watches   \n",
       "1124651                          Women/Dresses/Knee-Length   \n",
       "86200                              Women/Pants/Dress Pants   \n",
       "875186               Vintage & Collectibles/Jewelry/Brooch   \n",
       "1166181           Vintage & Collectibles/Collectibles/Doll   \n",
       "1404111                     Home/Home Décor/Home Fragrance   \n",
       "979341                              Beauty/Fragrance/Women   \n",
       "1464226                  Women/Women's Accessories/Wallets   \n",
       "972415             Women/Women's Handbags/Totes & Shoppers   \n",
       "1124291                             Men/Jeans/Slim, Skinny   \n",
       "1059826                     Sports & Outdoors/Apparel/Boys   \n",
       "53855       Women/Athletic Apparel/Pants, Tights, Leggings   \n",
       "839336                          Women/Coats & Jackets/Vest   \n",
       "1367645       Women/Women's Handbags/Messenger & Crossbody   \n",
       "12635                         Women/Shoes/Fashion Sneakers   \n",
       "580929    Kids/Health & Baby Care/Humidifiers & Vaporizers   \n",
       "435862                       Women/Athletic Apparel/Shorts   \n",
       "412159                       Women/Tops & Blouses/T-Shirts   \n",
       "37061                         Men/Athletic Apparel/Jerseys   \n",
       "663109                                Women/Underwear/Bras   \n",
       "220626      Women/Athletic Apparel/Pants, Tights, Leggings   \n",
       "1395182                                Women/Jewelry/Rings   \n",
       "945090                       Kids/Toys/Dolls & Accessories   \n",
       "16806                        Men/Men's Accessories/Wallets   \n",
       "\n",
       "                  brand_name  price  shipping  \\\n",
       "train_id                                        \n",
       "431736                Jordan   91.0         0   \n",
       "1482299      Dooney & Bourke   20.0         1   \n",
       "764342             Lululemon   66.0         0   \n",
       "781985        American Eagle   19.0         0   \n",
       "590192                  Nike   12.0         1   \n",
       "1244225    Victoria's Secret    7.0         1   \n",
       "1308385            Starbucks    8.0         1   \n",
       "124724                  LEGO   37.0         1   \n",
       "605273              Clinique   80.0         1   \n",
       "1184451          Aeropostale    8.0         1   \n",
       "901971        The North Face   52.0         1   \n",
       "55717      Littlest Pet Shop   10.0         0   \n",
       "468415        Lilly Pulitzer   49.0         0   \n",
       "246641         Louis Vuitton  304.0         0   \n",
       "240863               Jou Jou   15.0         1   \n",
       "459158     Bath & Body Works    8.0         1   \n",
       "913893               Sephora    6.0         1   \n",
       "1246592                 Xbox    7.0         0   \n",
       "575409               Miss Me   31.0         0   \n",
       "612050     Victoria's Secret   20.0         1   \n",
       "1006124           Tory Burch   49.0         0   \n",
       "686653                 Glade   13.0         0   \n",
       "316019                   Gap    6.0         1   \n",
       "1360568                 PINK   24.0         0   \n",
       "999228              Nintendo   11.0         1   \n",
       "752682                Disney    9.0         1   \n",
       "63178                Sephora   15.0         1   \n",
       "10923      Bath & Body Works   17.0         0   \n",
       "937215              Rae Dunn   22.0         0   \n",
       "40624               Gymshark   39.0         0   \n",
       "...                      ...    ...       ...   \n",
       "1205583             PetSmart   11.0         0   \n",
       "535500     Bath & Body Works   25.0         1   \n",
       "1406331                Funko   30.0         1   \n",
       "511755     Victoria's Secret   21.0         0   \n",
       "1103030             Clinique   27.0         0   \n",
       "920452                Reebok   36.0         0   \n",
       "1113315         Michael Kors  120.0         1   \n",
       "1124651                  H&M   12.0         1   \n",
       "86200            Lane Bryant   13.0         0   \n",
       "875186                Chanel   33.0         1   \n",
       "1166181                 PINK   84.0         0   \n",
       "1404111              Scentsy  112.0         0   \n",
       "979341     Victoria's Secret   25.0         1   \n",
       "1464226         Michael Kors   55.0         0   \n",
       "972415                  PINK   23.0         1   \n",
       "1124291       American Eagle   18.0         0   \n",
       "1059826         Under Armour   14.0         0   \n",
       "53855                LuLaRoe   16.0         1   \n",
       "839336        American Eagle   22.0         1   \n",
       "1367645    Victoria's Secret   18.0         1   \n",
       "12635               Converse   18.0         0   \n",
       "580929              Motorola   60.0         1   \n",
       "435862                  PINK   20.0         0   \n",
       "412159     Victoria's Secret   25.0         1   \n",
       "37061                   Nike   15.0         1   \n",
       "663109                  IZOD   10.0         0   \n",
       "220626                  Nike   20.0         0   \n",
       "1395182              Stamped   57.0         1   \n",
       "945090    Accessory Workshop   30.0         1   \n",
       "16806          Louis Vuitton   59.0         0   \n",
       "\n",
       "                                           item_description  \n",
       "train_id                                                     \n",
       "431736    Sz 10.5 Good preowned condition Includes origi...  \n",
       "1482299   D&B wallet with credit card slots and back coi...  \n",
       "764342    This is a pair of size 6 speed tights in great...  \n",
       "781985                     AEO off the shoulder top size XL  \n",
       "590192    Black and white pattern Gently used condition ...  \n",
       "1244225   Includes: Victoria's Secret Makeup Bag - New w...  \n",
       "1308385   Perfect holiday gift that goes great with a mu...  \n",
       "124724                                   No description yet  \n",
       "605273    Free priority shipping included! Super deluxe ...  \n",
       "1184451   Women's, size large pink tee shirt from Aer0p0...  \n",
       "901971    Never used, just don't need it Works great for...  \n",
       "55717     Comes with all shown. In slight played with co...  \n",
       "468415    Size small. Pom Poms on bottom starting to com...  \n",
       "246641    Authentic Guaranteed. Perfect condition. Used ...  \n",
       "240863                                   No description yet  \n",
       "459158                           SEALED 2016! Free shipping  \n",
       "913893    There's about half of the product left in the ...  \n",
       "1246592                                  No description yet  \n",
       "575409    In good condition except one of the back jewel...  \n",
       "612050                                    New with tags 36C  \n",
       "1006124   Tory Butch Reva flats in reddish/orange. Size ...  \n",
       "686653                                   No description yet  \n",
       "316019    SIZE:12 FREE SHIPPING,,,, FREE SHIPPING,,,, Th...  \n",
       "1360568   Victoria's secret pink sandals. \"Beach Please\"...  \n",
       "999228    TRACK YOUR PACKAGE We usually ship within 2 da...  \n",
       "752682    Mickey Mouse swim trunks and rash guard. Purch...  \n",
       "63178     Fiona Stiles Sheer Sculpting Palette in Light/...  \n",
       "10923             Mahogany teakwood. New and smells awesome  \n",
       "937215    ***Will package with great care!*** There may ...  \n",
       "40624                  Worn twice new condition size Medium  \n",
       "...                                                     ...  \n",
       "1205583   All are size small, fits chihuahuas up to ~9 lbs.  \n",
       "535500    Bath and body works for men 3 piece set. 3 2 i...  \n",
       "1406331   yellow power ranger. Everything is still unwra...  \n",
       "511755    Includes 1 perfume and 2 lotions Scents are: F...  \n",
       "1103030   Clarifying lotion has a little more than half ...  \n",
       "920452    Reebok Nano Web training sneakers. Orange and ...  \n",
       "1113315   LAST 1! Authentic MK5925 Model: Parker Retail:...  \n",
       "1124651   Beautiful polka dot navy dress. Hardly used. T...  \n",
       "86200            Excellent used condition. Smoke free home.  \n",
       "875186                                           Brooch Pin  \n",
       "1166181   Victoria's Secret Pink Canada Dog See photos o...  \n",
       "1404111   Snow day Warmer, also Christmas tree warmer an...  \n",
       "979341                      Perfume 3.4 fl oz new with tags  \n",
       "1464226   Michael Kors Camouflage wallet. Hard to find. ...  \n",
       "972415    Brand new, gray duffle with black handles and ...  \n",
       "1124291        Men's American Eagle Jeans size 30x32 skinny  \n",
       "1059826   Under Armour OSFA Youth Black w/ Gray Brand Ne...  \n",
       "53855     New w/on tag LLR O/S leggings lavender w/ whit...  \n",
       "839336    Brand New without tag, never used Size Medium ...  \n",
       "1367645   Enjoy free shipping weekend! Ends Sunday night...  \n",
       "12635                                    No description yet  \n",
       "580929    Help your baby breathe easy and sleep soundly ...  \n",
       "435862    BOOTY SHORTS IN GREAT CONDITION MOSTLY FOR SLE...  \n",
       "412159    PRICE FIRM ‼️ Don't ask me for the lowest pric...  \n",
       "37061     Decent quality Ibrahimovic Jersey. Free Shipping!  \n",
       "663109    Barely worn bra with thick cushy straps and un...  \n",
       "220626    GUC Oversized Cropped No holes, odors or stain...  \n",
       "1395182   This is a brand new 10k white gold 2mm wedding...  \n",
       "945090    Girls Build A Bear clothes, footwear and acces...  \n",
       "16806                         Box, bag, and papers included  \n",
       "\n",
       "[84610 rows x 7 columns]"
      ]
     },
     "execution_count": 5,
     "metadata": {},
     "output_type": "execute_result"
    }
   ],
   "source": [
    "# Drop missing values\n",
    "df.dropna(inplace=True)\n",
    "\n",
    "df.dropna(inplace=True)\n",
    "df.head(10)\n",
    "df.set_index('train_id')\n",
    "\n",
    "#df['Good Condition'] = np.where(df['item_condition_id'] > 2, 1,0)\n"
   ]
  },
  {
   "cell_type": "code",
   "execution_count": 6,
   "metadata": {
    "collapsed": true
   },
   "outputs": [],
   "source": [
    "Y = df['price']\n"
   ]
  },
  {
   "cell_type": "code",
   "execution_count": 7,
   "metadata": {},
   "outputs": [
    {
     "name": "stdout",
     "output_type": "stream",
     "text": [
      "2009.0\n"
     ]
    }
   ],
   "source": [
    "mx = np.max(Y)\n",
    "print(mx)"
   ]
  },
  {
   "cell_type": "code",
   "execution_count": 8,
   "metadata": {
    "collapsed": true
   },
   "outputs": [],
   "source": [
    "val = np.array([0.2,1.4,2.4,4.5,8,9,2.2])\n",
    "bins_set = pd.cut(val, 3,labels = ['small', 'medium','high'])"
   ]
  },
  {
   "cell_type": "code",
   "execution_count": 9,
   "metadata": {
    "collapsed": true
   },
   "outputs": [],
   "source": [
    "bins_df = pd.DataFrame(val,bins_set)"
   ]
  },
  {
   "cell_type": "code",
   "execution_count": 10,
   "metadata": {},
   "outputs": [
    {
     "data": {
      "text/html": [
       "<div>\n",
       "<style scoped>\n",
       "    .dataframe tbody tr th:only-of-type {\n",
       "        vertical-align: middle;\n",
       "    }\n",
       "\n",
       "    .dataframe tbody tr th {\n",
       "        vertical-align: top;\n",
       "    }\n",
       "\n",
       "    .dataframe thead th {\n",
       "        text-align: right;\n",
       "    }\n",
       "</style>\n",
       "<table border=\"1\" class=\"dataframe\">\n",
       "  <thead>\n",
       "    <tr style=\"text-align: right;\">\n",
       "      <th></th>\n",
       "      <th>0</th>\n",
       "    </tr>\n",
       "  </thead>\n",
       "  <tbody>\n",
       "    <tr>\n",
       "      <th>small</th>\n",
       "      <td>0.2</td>\n",
       "    </tr>\n",
       "    <tr>\n",
       "      <th>small</th>\n",
       "      <td>1.4</td>\n",
       "    </tr>\n",
       "    <tr>\n",
       "      <th>small</th>\n",
       "      <td>2.4</td>\n",
       "    </tr>\n",
       "    <tr>\n",
       "      <th>medium</th>\n",
       "      <td>4.5</td>\n",
       "    </tr>\n",
       "    <tr>\n",
       "      <th>high</th>\n",
       "      <td>8.0</td>\n",
       "    </tr>\n",
       "    <tr>\n",
       "      <th>high</th>\n",
       "      <td>9.0</td>\n",
       "    </tr>\n",
       "    <tr>\n",
       "      <th>small</th>\n",
       "      <td>2.2</td>\n",
       "    </tr>\n",
       "  </tbody>\n",
       "</table>\n",
       "</div>"
      ],
      "text/plain": [
       "          0\n",
       "small   0.2\n",
       "small   1.4\n",
       "small   2.4\n",
       "medium  4.5\n",
       "high    8.0\n",
       "high    9.0\n",
       "small   2.2"
      ]
     },
     "execution_count": 10,
     "metadata": {},
     "output_type": "execute_result"
    }
   ],
   "source": [
    "bins_df"
   ]
  },
  {
   "cell_type": "code",
   "execution_count": 11,
   "metadata": {},
   "outputs": [
    {
     "data": {
      "text/html": [
       "<div>\n",
       "<style scoped>\n",
       "    .dataframe tbody tr th:only-of-type {\n",
       "        vertical-align: middle;\n",
       "    }\n",
       "\n",
       "    .dataframe tbody tr th {\n",
       "        vertical-align: top;\n",
       "    }\n",
       "\n",
       "    .dataframe thead th {\n",
       "        text-align: right;\n",
       "    }\n",
       "</style>\n",
       "<table border=\"1\" class=\"dataframe\">\n",
       "  <thead>\n",
       "    <tr style=\"text-align: right;\">\n",
       "      <th></th>\n",
       "      <th>0</th>\n",
       "      <th>test</th>\n",
       "    </tr>\n",
       "  </thead>\n",
       "  <tbody>\n",
       "    <tr>\n",
       "      <th>small</th>\n",
       "      <td>0.2</td>\n",
       "      <td>0</td>\n",
       "    </tr>\n",
       "    <tr>\n",
       "      <th>small</th>\n",
       "      <td>1.4</td>\n",
       "      <td>1</td>\n",
       "    </tr>\n",
       "    <tr>\n",
       "      <th>small</th>\n",
       "      <td>2.4</td>\n",
       "      <td>2</td>\n",
       "    </tr>\n",
       "    <tr>\n",
       "      <th>medium</th>\n",
       "      <td>4.5</td>\n",
       "      <td>3</td>\n",
       "    </tr>\n",
       "    <tr>\n",
       "      <th>high</th>\n",
       "      <td>8.0</td>\n",
       "      <td>4</td>\n",
       "    </tr>\n",
       "    <tr>\n",
       "      <th>high</th>\n",
       "      <td>9.0</td>\n",
       "      <td>5</td>\n",
       "    </tr>\n",
       "    <tr>\n",
       "      <th>small</th>\n",
       "      <td>2.2</td>\n",
       "      <td>6</td>\n",
       "    </tr>\n",
       "  </tbody>\n",
       "</table>\n",
       "</div>"
      ],
      "text/plain": [
       "          0  test\n",
       "small   0.2     0\n",
       "small   1.4     1\n",
       "small   2.4     2\n",
       "medium  4.5     3\n",
       "high    8.0     4\n",
       "high    9.0     5\n",
       "small   2.2     6"
      ]
     },
     "execution_count": 11,
     "metadata": {},
     "output_type": "execute_result"
    }
   ],
   "source": [
    "test = np.array(range(7))\n",
    "bins_df['test'] = test\n",
    "bins_df"
   ]
  },
  {
   "cell_type": "code",
   "execution_count": 12,
   "metadata": {
    "collapsed": true
   },
   "outputs": [],
   "source": [
    "price_bins = pd.cut(Y, 10, labels = ['LVLow','UVLow','LLow','ULow','LMedium','UMedium','LHigh','UHigh','LVHigh','UVHigh'])"
   ]
  },
  {
   "cell_type": "code",
   "execution_count": 13,
   "metadata": {
    "collapsed": true
   },
   "outputs": [],
   "source": [
    "df['price_bins'] = price_bins"
   ]
  },
  {
   "cell_type": "code",
   "execution_count": 14,
   "metadata": {},
   "outputs": [
    {
     "name": "stdout",
     "output_type": "stream",
     "text": [
      "Number of items less than 200 83767\n",
      "Number of items between 200 and 400 675\n",
      "Number of items between 400 and 600 109\n",
      "Number of items between 600 and 800 28\n",
      "Number of items between 800 and 1000 16\n",
      "Number of items between 1000 and 1200 6\n",
      "Number of items between 1200 and 1400 3\n",
      "Number of items between 1400 and 1600 2\n",
      "Number of items between 1600 and 1800 0\n",
      "Number of items between 1800 and above 4\n"
     ]
    }
   ],
   "source": [
    "print(\"Number of items less than 200\",len(df.loc[(df['price_bins'] == 'LVLow')]))\n",
    "print(\"Number of items between 200 and 400\",len(df.loc[(df['price_bins'] == 'UVLow')]))\n",
    "print(\"Number of items between 400 and 600\",len(df.loc[(df['price_bins'] == 'LLow')]))\n",
    "print(\"Number of items between 600 and 800\",len(df.loc[(df['price_bins'] == 'ULow')]))\n",
    "print(\"Number of items between 800 and 1000\",len(df.loc[(df['price_bins'] == 'LMedium')]))\n",
    "print(\"Number of items between 1000 and 1200\",len(df.loc[(df['price_bins'] == 'UMedium')]))\n",
    "print(\"Number of items between 1200 and 1400\",len(df.loc[(df['price_bins'] == 'LHigh')]))\n",
    "print(\"Number of items between 1400 and 1600\",len(df.loc[(df['price_bins'] == 'UHigh')]))\n",
    "print(\"Number of items between 1600 and 1800\",len(df.loc[(df['price_bins'] == 'LVHigh')]))\n",
    "print(\"Number of items between 1800 and above\",len(df.loc[(df['price_bins'] == 'UVHigh')]))"
   ]
  },
  {
   "cell_type": "code",
   "execution_count": 15,
   "metadata": {},
   "outputs": [
    {
     "data": {
      "text/plain": [
       "Index(['train_id', 'name', 'item_condition_id', 'category_name', 'brand_name',\n",
       "       'price', 'shipping', 'item_description', 'price_bins'],\n",
       "      dtype='object')"
      ]
     },
     "execution_count": 15,
     "metadata": {},
     "output_type": "execute_result"
    }
   ],
   "source": [
    "df.columns"
   ]
  },
  {
   "cell_type": "code",
   "execution_count": 16,
   "metadata": {
    "collapsed": true
   },
   "outputs": [],
   "source": [
    "X = df.drop('train_id', axis=1)\n",
    "X = df.drop('name',axis=1)"
   ]
  },
  {
   "cell_type": "code",
   "execution_count": 17,
   "metadata": {
    "collapsed": true
   },
   "outputs": [],
   "source": [
    "X.drop('train_id',axis=1,inplace=True)"
   ]
  },
  {
   "cell_type": "code",
   "execution_count": 18,
   "metadata": {
    "collapsed": true
   },
   "outputs": [],
   "source": [
    "#X is a dataframe contains required predictors, (item_condition_id, category_name, brand_name, price, shipping, item_description)\n",
    "#Create a new data frame X_noprice without price, including price_bins categorical\n",
    "X_noprice = X.drop('price',axis=1)\n"
   ]
  },
  {
   "cell_type": "code",
   "execution_count": 19,
   "metadata": {},
   "outputs": [
    {
     "data": {
      "text/html": [
       "<div>\n",
       "<style scoped>\n",
       "    .dataframe tbody tr th:only-of-type {\n",
       "        vertical-align: middle;\n",
       "    }\n",
       "\n",
       "    .dataframe tbody tr th {\n",
       "        vertical-align: top;\n",
       "    }\n",
       "\n",
       "    .dataframe thead th {\n",
       "        text-align: right;\n",
       "    }\n",
       "</style>\n",
       "<table border=\"1\" class=\"dataframe\">\n",
       "  <thead>\n",
       "    <tr style=\"text-align: right;\">\n",
       "      <th></th>\n",
       "      <th>item_condition_id</th>\n",
       "      <th>category_name</th>\n",
       "      <th>brand_name</th>\n",
       "      <th>shipping</th>\n",
       "      <th>item_description</th>\n",
       "      <th>price_bins</th>\n",
       "    </tr>\n",
       "  </thead>\n",
       "  <tbody>\n",
       "    <tr>\n",
       "      <th>431736</th>\n",
       "      <td>3</td>\n",
       "      <td>Men/Shoes/Athletic</td>\n",
       "      <td>Jordan</td>\n",
       "      <td>0</td>\n",
       "      <td>Sz 10.5 Good preowned condition Includes origi...</td>\n",
       "      <td>LVLow</td>\n",
       "    </tr>\n",
       "    <tr>\n",
       "      <th>1482299</th>\n",
       "      <td>3</td>\n",
       "      <td>Women/Women's Accessories/Wallets</td>\n",
       "      <td>Dooney &amp; Bourke</td>\n",
       "      <td>1</td>\n",
       "      <td>D&amp;B wallet with credit card slots and back coi...</td>\n",
       "      <td>LVLow</td>\n",
       "    </tr>\n",
       "    <tr>\n",
       "      <th>764342</th>\n",
       "      <td>3</td>\n",
       "      <td>Women/Athletic Apparel/Pants, Tights, Leggings</td>\n",
       "      <td>Lululemon</td>\n",
       "      <td>0</td>\n",
       "      <td>This is a pair of size 6 speed tights in great...</td>\n",
       "      <td>LVLow</td>\n",
       "    </tr>\n",
       "    <tr>\n",
       "      <th>781985</th>\n",
       "      <td>2</td>\n",
       "      <td>Women/Athletic Apparel/Shirts &amp; Tops</td>\n",
       "      <td>American Eagle</td>\n",
       "      <td>0</td>\n",
       "      <td>AEO off the shoulder top size XL</td>\n",
       "      <td>LVLow</td>\n",
       "    </tr>\n",
       "    <tr>\n",
       "      <th>590192</th>\n",
       "      <td>3</td>\n",
       "      <td>Women/Athletic Apparel/Pants, Tights, Leggings</td>\n",
       "      <td>Nike</td>\n",
       "      <td>1</td>\n",
       "      <td>Black and white pattern Gently used condition ...</td>\n",
       "      <td>LVLow</td>\n",
       "    </tr>\n",
       "  </tbody>\n",
       "</table>\n",
       "</div>"
      ],
      "text/plain": [
       "         item_condition_id                                   category_name  \\\n",
       "431736                   3                              Men/Shoes/Athletic   \n",
       "1482299                  3               Women/Women's Accessories/Wallets   \n",
       "764342                   3  Women/Athletic Apparel/Pants, Tights, Leggings   \n",
       "781985                   2            Women/Athletic Apparel/Shirts & Tops   \n",
       "590192                   3  Women/Athletic Apparel/Pants, Tights, Leggings   \n",
       "\n",
       "              brand_name  shipping  \\\n",
       "431736            Jordan         0   \n",
       "1482299  Dooney & Bourke         1   \n",
       "764342         Lululemon         0   \n",
       "781985    American Eagle         0   \n",
       "590192              Nike         1   \n",
       "\n",
       "                                          item_description price_bins  \n",
       "431736   Sz 10.5 Good preowned condition Includes origi...      LVLow  \n",
       "1482299  D&B wallet with credit card slots and back coi...      LVLow  \n",
       "764342   This is a pair of size 6 speed tights in great...      LVLow  \n",
       "781985                    AEO off the shoulder top size XL      LVLow  \n",
       "590192   Black and white pattern Gently used condition ...      LVLow  "
      ]
     },
     "execution_count": 19,
     "metadata": {},
     "output_type": "execute_result"
    }
   ],
   "source": [
    "X.head()\n",
    "X_noprice.head()"
   ]
  },
  {
   "cell_type": "code",
   "execution_count": 20,
   "metadata": {
    "collapsed": true
   },
   "outputs": [],
   "source": [
    "X_noprice.dtypes\n",
    "X_noprice['item_condition_id'] = X_noprice['item_condition_id'].astype('category')\n",
    "X_noprice['shipping'] = X_noprice['shipping'].astype('category')"
   ]
  },
  {
   "cell_type": "code",
   "execution_count": 21,
   "metadata": {
    "collapsed": true
   },
   "outputs": [],
   "source": [
    "#Split the category_name to sub categories\n",
    "X_noprice['category_name'], X_noprice['subcat_1'], X_noprice['subcat_2'] = zip(*X_noprice['category_name'].apply(lambda x: x.split('/')))"
   ]
  },
  {
   "cell_type": "code",
   "execution_count": 22,
   "metadata": {},
   "outputs": [
    {
     "data": {
      "text/html": [
       "<div>\n",
       "<style scoped>\n",
       "    .dataframe tbody tr th:only-of-type {\n",
       "        vertical-align: middle;\n",
       "    }\n",
       "\n",
       "    .dataframe tbody tr th {\n",
       "        vertical-align: top;\n",
       "    }\n",
       "\n",
       "    .dataframe thead th {\n",
       "        text-align: right;\n",
       "    }\n",
       "</style>\n",
       "<table border=\"1\" class=\"dataframe\">\n",
       "  <thead>\n",
       "    <tr style=\"text-align: right;\">\n",
       "      <th></th>\n",
       "      <th>item_condition_id</th>\n",
       "      <th>category_name</th>\n",
       "      <th>brand_name</th>\n",
       "      <th>shipping</th>\n",
       "      <th>item_description</th>\n",
       "      <th>price_bins</th>\n",
       "      <th>subcat_1</th>\n",
       "      <th>subcat_2</th>\n",
       "    </tr>\n",
       "  </thead>\n",
       "  <tbody>\n",
       "    <tr>\n",
       "      <th>431736</th>\n",
       "      <td>3</td>\n",
       "      <td>Men</td>\n",
       "      <td>Jordan</td>\n",
       "      <td>0</td>\n",
       "      <td>Sz 10.5 Good preowned condition Includes origi...</td>\n",
       "      <td>LVLow</td>\n",
       "      <td>Shoes</td>\n",
       "      <td>Athletic</td>\n",
       "    </tr>\n",
       "    <tr>\n",
       "      <th>1482299</th>\n",
       "      <td>3</td>\n",
       "      <td>Women</td>\n",
       "      <td>Dooney &amp; Bourke</td>\n",
       "      <td>1</td>\n",
       "      <td>D&amp;B wallet with credit card slots and back coi...</td>\n",
       "      <td>LVLow</td>\n",
       "      <td>Women's Accessories</td>\n",
       "      <td>Wallets</td>\n",
       "    </tr>\n",
       "    <tr>\n",
       "      <th>764342</th>\n",
       "      <td>3</td>\n",
       "      <td>Women</td>\n",
       "      <td>Lululemon</td>\n",
       "      <td>0</td>\n",
       "      <td>This is a pair of size 6 speed tights in great...</td>\n",
       "      <td>LVLow</td>\n",
       "      <td>Athletic Apparel</td>\n",
       "      <td>Pants, Tights, Leggings</td>\n",
       "    </tr>\n",
       "    <tr>\n",
       "      <th>781985</th>\n",
       "      <td>2</td>\n",
       "      <td>Women</td>\n",
       "      <td>American Eagle</td>\n",
       "      <td>0</td>\n",
       "      <td>AEO off the shoulder top size XL</td>\n",
       "      <td>LVLow</td>\n",
       "      <td>Athletic Apparel</td>\n",
       "      <td>Shirts &amp; Tops</td>\n",
       "    </tr>\n",
       "    <tr>\n",
       "      <th>590192</th>\n",
       "      <td>3</td>\n",
       "      <td>Women</td>\n",
       "      <td>Nike</td>\n",
       "      <td>1</td>\n",
       "      <td>Black and white pattern Gently used condition ...</td>\n",
       "      <td>LVLow</td>\n",
       "      <td>Athletic Apparel</td>\n",
       "      <td>Pants, Tights, Leggings</td>\n",
       "    </tr>\n",
       "  </tbody>\n",
       "</table>\n",
       "</div>"
      ],
      "text/plain": [
       "        item_condition_id category_name       brand_name shipping  \\\n",
       "431736                  3           Men           Jordan        0   \n",
       "1482299                 3         Women  Dooney & Bourke        1   \n",
       "764342                  3         Women        Lululemon        0   \n",
       "781985                  2         Women   American Eagle        0   \n",
       "590192                  3         Women             Nike        1   \n",
       "\n",
       "                                          item_description price_bins  \\\n",
       "431736   Sz 10.5 Good preowned condition Includes origi...      LVLow   \n",
       "1482299  D&B wallet with credit card slots and back coi...      LVLow   \n",
       "764342   This is a pair of size 6 speed tights in great...      LVLow   \n",
       "781985                    AEO off the shoulder top size XL      LVLow   \n",
       "590192   Black and white pattern Gently used condition ...      LVLow   \n",
       "\n",
       "                    subcat_1                 subcat_2  \n",
       "431736                 Shoes                 Athletic  \n",
       "1482299  Women's Accessories                  Wallets  \n",
       "764342      Athletic Apparel  Pants, Tights, Leggings  \n",
       "781985      Athletic Apparel            Shirts & Tops  \n",
       "590192      Athletic Apparel  Pants, Tights, Leggings  "
      ]
     },
     "execution_count": 22,
     "metadata": {},
     "output_type": "execute_result"
    }
   ],
   "source": [
    "X_noprice.head()"
   ]
  },
  {
   "cell_type": "code",
   "execution_count": 23,
   "metadata": {},
   "outputs": [
    {
     "data": {
      "text/plain": [
       "item_condition_id    category\n",
       "category_name          object\n",
       "brand_name             object\n",
       "shipping             category\n",
       "item_description       object\n",
       "price_bins           category\n",
       "subcat_1               object\n",
       "subcat_2               object\n",
       "dtype: object"
      ]
     },
     "execution_count": 23,
     "metadata": {},
     "output_type": "execute_result"
    }
   ],
   "source": [
    "X_noprice.dtypes"
   ]
  },
  {
   "cell_type": "code",
   "execution_count": 24,
   "metadata": {
    "collapsed": true
   },
   "outputs": [],
   "source": [
    "target = X_noprice['price_bins']\n"
   ]
  },
  {
   "cell_type": "code",
   "execution_count": 25,
   "metadata": {
    "collapsed": true
   },
   "outputs": [],
   "source": [
    "X_noprice = X_noprice.drop('price_bins',axis=1)"
   ]
  },
  {
   "cell_type": "code",
   "execution_count": 26,
   "metadata": {},
   "outputs": [
    {
     "data": {
      "text/plain": [
       "(84610, 7)"
      ]
     },
     "execution_count": 26,
     "metadata": {},
     "output_type": "execute_result"
    }
   ],
   "source": [
    "X_noprice.shape"
   ]
  },
  {
   "cell_type": "code",
   "execution_count": 27,
   "metadata": {
    "collapsed": true
   },
   "outputs": [],
   "source": [
    "tfidf_transformer = TfidfVectorizer(max_features=50000,ngram_range=(1,1),stop_words='english')"
   ]
  },
  {
   "cell_type": "code",
   "execution_count": 28,
   "metadata": {
    "collapsed": true
   },
   "outputs": [],
   "source": [
    "item_desc_vect = tfidf_transformer.fit_transform(X_noprice['item_description'])\n",
    "brand_vect = tfidf_transformer.fit_transform(X_noprice['brand_name'])\n",
    "cat_vect = tfidf_transformer.fit_transform(X_noprice['category_name'])\n",
    "subcat_1_vect = tfidf_transformer.fit_transform(X_noprice['subcat_1'])\n",
    "subcat_2_vect = tfidf_transformer.fit_transform(X_noprice['subcat_2'])"
   ]
  },
  {
   "cell_type": "code",
   "execution_count": 29,
   "metadata": {},
   "outputs": [
    {
     "data": {
      "text/plain": [
       "scipy.sparse.csr.csr_matrix"
      ]
     },
     "execution_count": 29,
     "metadata": {},
     "output_type": "execute_result"
    }
   ],
   "source": [
    "type(subcat_1_vect)"
   ]
  },
  {
   "cell_type": "code",
   "execution_count": 30,
   "metadata": {
    "collapsed": true
   },
   "outputs": [],
   "source": [
    "X_dummies = scipy.sparse.csr_matrix(pd.get_dummies(X_noprice[[\"item_condition_id\", \"shipping\"]], sparse=True).values)"
   ]
  },
  {
   "cell_type": "code",
   "execution_count": 31,
   "metadata": {},
   "outputs": [
    {
     "name": "stdout",
     "output_type": "stream",
     "text": [
      "Item description shape: (84610, 33656)\n",
      "brand name shape: (84610, 2634)\n",
      "category name shape: (84610, 11)\n",
      "subcategory 1 shape: (84610, 117)\n",
      "subcategory 2 shape: (84610, 620)\n"
     ]
    }
   ],
   "source": [
    "print(\"Item description shape:\",item_desc_vect.shape)\n",
    "print(\"brand name shape:\",brand_vect.shape)\n",
    "print(\"category name shape:\",cat_vect.shape)\n",
    "print(\"subcategory 1 shape:\",subcat_1_vect.shape)\n",
    "print(\"subcategory 2 shape:\",subcat_2_vect.shape)"
   ]
  },
  {
   "cell_type": "code",
   "execution_count": 32,
   "metadata": {
    "collapsed": true
   },
   "outputs": [],
   "source": [
    "X = scipy.sparse.hstack((X_dummies,item_desc_vect,brand_vect,cat_vect,subcat_1_vect,subcat_2_vect)).tocsr()"
   ]
  },
  {
   "cell_type": "code",
   "execution_count": 33,
   "metadata": {},
   "outputs": [
    {
     "data": {
      "text/plain": [
       "(84610, 37045)"
      ]
     },
     "execution_count": 33,
     "metadata": {},
     "output_type": "execute_result"
    }
   ],
   "source": [
    "# X is Combined matrix of all the vectors\n",
    "X.shape"
   ]
  },
  {
   "cell_type": "code",
   "execution_count": null,
   "metadata": {
    "collapsed": true
   },
   "outputs": [],
   "source": []
  },
  {
   "cell_type": "code",
   "execution_count": 34,
   "metadata": {
    "collapsed": true
   },
   "outputs": [],
   "source": [
    "from sklearn.model_selection import train_test_split\n",
    "X_train, X_test, y_train, y_test = train_test_split(X,target,random_state=0)"
   ]
  },
  {
   "cell_type": "code",
   "execution_count": 35,
   "metadata": {},
   "outputs": [
    {
     "name": "stdout",
     "output_type": "stream",
     "text": [
      "Train shape: (63457, 37045)\n",
      "Test shape: (21153, 37045)\n"
     ]
    }
   ],
   "source": [
    "print(\"Train shape:\",X_train.shape)\n",
    "print(\"Test shape:\",X_test.shape)"
   ]
  },
  {
   "cell_type": "code",
   "execution_count": 36,
   "metadata": {},
   "outputs": [
    {
     "data": {
      "text/plain": [
       "(21153,)"
      ]
     },
     "execution_count": 36,
     "metadata": {},
     "output_type": "execute_result"
    }
   ],
   "source": [
    "target.shape\n",
    "y_train.shape\n",
    "y_test.shape"
   ]
  },
  {
   "cell_type": "code",
   "execution_count": 37,
   "metadata": {},
   "outputs": [
    {
     "data": {
      "text/plain": [
       "1312383    LVLow\n",
       "375433     LVLow\n",
       "907837     LVLow\n",
       "1025567     LLow\n",
       "937808     LVLow\n",
       "Name: price_bins, dtype: category\n",
       "Categories (10, object): [LVLow < UVLow < LLow < ULow ... LHigh < UHigh < LVHigh < UVHigh]"
      ]
     },
     "execution_count": 37,
     "metadata": {},
     "output_type": "execute_result"
    }
   ],
   "source": [
    "y_train.head()"
   ]
  },
  {
   "cell_type": "markdown",
   "metadata": {},
   "source": [
    "## Modelling"
   ]
  },
  {
   "cell_type": "code",
   "execution_count": 38,
   "metadata": {},
   "outputs": [
    {
     "name": "stdout",
     "output_type": "stream",
     "text": [
      "LVLow      62822\n",
      "UVLow        506\n",
      "LLow          81\n",
      "ULow          22\n",
      "LMedium       15\n",
      "UVHigh         4\n",
      "UMedium        3\n",
      "UHigh          2\n",
      "LHigh          2\n",
      "LVHigh         0\n",
      "Name: price_bins, dtype: int64\n"
     ]
    }
   ],
   "source": [
    "from sklearn.naive_bayes import MultinomialNB\n",
    "clf = MultinomialNB().fit(X_train, y_train)\n",
    "pred=clf.predict(X_train)\n",
    "print(y_train.value_counts())\n",
    "from sklearn.metrics import confusion_matrix\n",
    "prediction=confusion_matrix(y_train,pred)\n"
   ]
  },
  {
   "cell_type": "code",
   "execution_count": 39,
   "metadata": {},
   "outputs": [
    {
     "name": "stdout",
     "output_type": "stream",
     "text": [
      "[[    0     0     0     2     0     0     0     0     0]\n",
      " [    0     0     0    78     0     0     0     0     3]\n",
      " [    0     0     0    15     0     0     0     0     0]\n",
      " [    0     0     0 62807     0     0     0     0    15]\n",
      " [    0     0     0     2     0     0     0     0     0]\n",
      " [    0     0     0    21     0     0     0     0     1]\n",
      " [    0     0     0     3     0     0     0     0     0]\n",
      " [    0     0     0     4     0     0     0     0     0]\n",
      " [    0     0     0   495     0     0     0     0    11]]\n"
     ]
    }
   ],
   "source": [
    "print(prediction)"
   ]
  },
  {
   "cell_type": "code",
   "execution_count": 40,
   "metadata": {
    "collapsed": true
   },
   "outputs": [],
   "source": [
    "#Metrics\n",
    "from sklearn.metrics import recall_score, precision_score, accuracy_score\n",
    "acc=accuracy_score(y_train,pred)\n",
    "rec=recall_score(y_train,pred,labels=['LVLow','UVLow','LLow','ULow','LMedium','UVHigh','UMedium','UHigh','LHigh','LVHigh'],average='micro')\n",
    "prec=precision_score(y_train,pred,labels=['LVLow','UVLow','LLow','ULow','LMedium','UVHigh','UMedium','UHigh','LHigh','LVHigh'],average='micro')\n"
   ]
  },
  {
   "cell_type": "code",
   "execution_count": 41,
   "metadata": {},
   "outputs": [
    {
     "name": "stdout",
     "output_type": "stream",
     "text": [
      "Accuracy using Micro 98.9930188947\n",
      "Recall: using Micro 98.9930188947\n",
      "Precision:using Micro 98.9930188947\n"
     ]
    }
   ],
   "source": [
    "print(\"Accuracy using Micro\",acc*100)\n",
    "print(\"Recall: using Micro\",rec*100)\n",
    "print(\"Precision:using Micro\",prec*100)"
   ]
  },
  {
   "cell_type": "code",
   "execution_count": 42,
   "metadata": {
    "collapsed": true
   },
   "outputs": [],
   "source": [
    "#Predictions on test data, X_test\n",
    "test_preds = clf.predict(X_test)"
   ]
  },
  {
   "cell_type": "code",
   "execution_count": 43,
   "metadata": {},
   "outputs": [
    {
     "name": "stdout",
     "output_type": "stream",
     "text": [
      "['LVLow' 'LVLow' 'LVLow' ..., 'LVLow' 'LVLow' 'LVLow']\n"
     ]
    }
   ],
   "source": [
    "print(test_preds)"
   ]
  },
  {
   "cell_type": "code",
   "execution_count": 44,
   "metadata": {},
   "outputs": [
    {
     "name": "stdout",
     "output_type": "stream",
     "text": [
      "[[    0     0     0     1     0     0     0]\n",
      " [    0     0     0    28     0     0     0]\n",
      " [    0     0     0     1     0     0     0]\n",
      " [    0     0     0 20938     0     0     7]\n",
      " [    0     0     0     6     0     0     0]\n",
      " [    0     0     0     3     0     0     0]\n",
      " [    0     0     0   168     0     0     1]]\n",
      "LVLow      20945\n",
      "UVLow        169\n",
      "LLow          28\n",
      "ULow           6\n",
      "UMedium        3\n",
      "LHigh          1\n",
      "LMedium        1\n",
      "UVHigh         0\n",
      "LVHigh         0\n",
      "UHigh          0\n",
      "Name: price_bins, dtype: int64\n"
     ]
    }
   ],
   "source": [
    "test_predictions = confusion_matrix(y_test,test_preds)\n",
    "print(test_predictions)\n",
    "print(y_test.value_counts())"
   ]
  },
  {
   "cell_type": "code",
   "execution_count": 45,
   "metadata": {},
   "outputs": [
    {
     "name": "stdout",
     "output_type": "stream",
     "text": [
      "Test Accuracy using Micro 98.9883231693\n",
      "Test Recall: using Micro 98.9883231693\n",
      "Test Precision:using Micro 98.9883231693\n"
     ]
    }
   ],
   "source": [
    "acc=accuracy_score(y_test,test_preds)\n",
    "rec=recall_score(y_test,test_preds,labels=['LVLow','UVLow','LLow','ULow','LMedium','UVHigh','UMedium','UHigh','LHigh','LVHigh'],\\\n",
    "                 average='micro')\n",
    "prec=precision_score(y_test,test_preds,labels=['LVLow','UVLow','LLow','ULow','LMedium','UVHigh','UMedium','UHigh','LHigh','LVHigh'],\\\n",
    "                     average='micro')\n",
    "print(\"Test Accuracy using Micro\",acc*100)\n",
    "print(\"Test Recall: using Micro\",rec*100)\n",
    "print(\"Test Precision:using Micro\",prec*100)"
   ]
  },
  {
   "cell_type": "code",
   "execution_count": 46,
   "metadata": {
    "collapsed": true
   },
   "outputs": [],
   "source": [
    "Results = pd.DataFrame()\n",
    "Results['Train_Actuals'] = y_train\n",
    "Results['Train_predictions'] = pred\n"
   ]
  },
  {
   "cell_type": "code",
   "execution_count": 47,
   "metadata": {
    "collapsed": true
   },
   "outputs": [],
   "source": [
    "Test_Results = pd.DataFrame()\n",
    "Test_Results['Test_Actuals'] = y_test\n",
    "Test_Results['Test_predictions'] = test_preds"
   ]
  },
  {
   "cell_type": "code",
   "execution_count": 48,
   "metadata": {},
   "outputs": [
    {
     "data": {
      "text/html": [
       "<div>\n",
       "<style scoped>\n",
       "    .dataframe tbody tr th:only-of-type {\n",
       "        vertical-align: middle;\n",
       "    }\n",
       "\n",
       "    .dataframe tbody tr th {\n",
       "        vertical-align: top;\n",
       "    }\n",
       "\n",
       "    .dataframe thead th {\n",
       "        text-align: right;\n",
       "    }\n",
       "</style>\n",
       "<table border=\"1\" class=\"dataframe\">\n",
       "  <thead>\n",
       "    <tr style=\"text-align: right;\">\n",
       "      <th></th>\n",
       "      <th>Train_Actuals</th>\n",
       "      <th>Train_predictions</th>\n",
       "    </tr>\n",
       "  </thead>\n",
       "  <tbody>\n",
       "    <tr>\n",
       "      <th>1312383</th>\n",
       "      <td>LVLow</td>\n",
       "      <td>LVLow</td>\n",
       "    </tr>\n",
       "    <tr>\n",
       "      <th>375433</th>\n",
       "      <td>LVLow</td>\n",
       "      <td>LVLow</td>\n",
       "    </tr>\n",
       "    <tr>\n",
       "      <th>907837</th>\n",
       "      <td>LVLow</td>\n",
       "      <td>LVLow</td>\n",
       "    </tr>\n",
       "    <tr>\n",
       "      <th>1025567</th>\n",
       "      <td>LLow</td>\n",
       "      <td>LVLow</td>\n",
       "    </tr>\n",
       "    <tr>\n",
       "      <th>937808</th>\n",
       "      <td>LVLow</td>\n",
       "      <td>LVLow</td>\n",
       "    </tr>\n",
       "  </tbody>\n",
       "</table>\n",
       "</div>"
      ],
      "text/plain": [
       "        Train_Actuals Train_predictions\n",
       "1312383         LVLow             LVLow\n",
       "375433          LVLow             LVLow\n",
       "907837          LVLow             LVLow\n",
       "1025567          LLow             LVLow\n",
       "937808          LVLow             LVLow"
      ]
     },
     "execution_count": 48,
     "metadata": {},
     "output_type": "execute_result"
    }
   ],
   "source": [
    "Results.head()"
   ]
  },
  {
   "cell_type": "code",
   "execution_count": 49,
   "metadata": {},
   "outputs": [
    {
     "data": {
      "text/html": [
       "<div>\n",
       "<style scoped>\n",
       "    .dataframe tbody tr th:only-of-type {\n",
       "        vertical-align: middle;\n",
       "    }\n",
       "\n",
       "    .dataframe tbody tr th {\n",
       "        vertical-align: top;\n",
       "    }\n",
       "\n",
       "    .dataframe thead th {\n",
       "        text-align: right;\n",
       "    }\n",
       "</style>\n",
       "<table border=\"1\" class=\"dataframe\">\n",
       "  <thead>\n",
       "    <tr style=\"text-align: right;\">\n",
       "      <th></th>\n",
       "      <th>Test_Actuals</th>\n",
       "      <th>Test_predictions</th>\n",
       "    </tr>\n",
       "  </thead>\n",
       "  <tbody>\n",
       "    <tr>\n",
       "      <th>1074401</th>\n",
       "      <td>LVLow</td>\n",
       "      <td>LVLow</td>\n",
       "    </tr>\n",
       "    <tr>\n",
       "      <th>370950</th>\n",
       "      <td>LVLow</td>\n",
       "      <td>LVLow</td>\n",
       "    </tr>\n",
       "    <tr>\n",
       "      <th>469604</th>\n",
       "      <td>LVLow</td>\n",
       "      <td>LVLow</td>\n",
       "    </tr>\n",
       "    <tr>\n",
       "      <th>1014695</th>\n",
       "      <td>LVLow</td>\n",
       "      <td>LVLow</td>\n",
       "    </tr>\n",
       "    <tr>\n",
       "      <th>506488</th>\n",
       "      <td>LVLow</td>\n",
       "      <td>LVLow</td>\n",
       "    </tr>\n",
       "  </tbody>\n",
       "</table>\n",
       "</div>"
      ],
      "text/plain": [
       "        Test_Actuals Test_predictions\n",
       "1074401        LVLow            LVLow\n",
       "370950         LVLow            LVLow\n",
       "469604         LVLow            LVLow\n",
       "1014695        LVLow            LVLow\n",
       "506488         LVLow            LVLow"
      ]
     },
     "execution_count": 49,
     "metadata": {},
     "output_type": "execute_result"
    }
   ],
   "source": [
    "Test_Results.head()"
   ]
  },
  {
   "cell_type": "markdown",
   "metadata": {},
   "source": [
    "## Regression Modelling - predicting target by considering price"
   ]
  },
  {
   "cell_type": "code",
   "execution_count": 50,
   "metadata": {},
   "outputs": [
    {
     "data": {
      "text/plain": [
       "(84610, 37045)"
      ]
     },
     "execution_count": 50,
     "metadata": {},
     "output_type": "execute_result"
    }
   ],
   "source": [
    "X.shape"
   ]
  },
  {
   "cell_type": "code",
   "execution_count": 51,
   "metadata": {
    "collapsed": true
   },
   "outputs": [],
   "source": [
    "target_p = df['price']"
   ]
  },
  {
   "cell_type": "code",
   "execution_count": 52,
   "metadata": {
    "collapsed": true
   },
   "outputs": [],
   "source": [
    "X_train,X_test,y_train,y_test = train_test_split(X,target_p,random_state=0)"
   ]
  },
  {
   "cell_type": "code",
   "execution_count": 53,
   "metadata": {},
   "outputs": [
    {
     "data": {
      "text/plain": [
       "(63457, 37045)"
      ]
     },
     "execution_count": 53,
     "metadata": {},
     "output_type": "execute_result"
    }
   ],
   "source": [
    "X_train.shape"
   ]
  },
  {
   "cell_type": "code",
   "execution_count": 54,
   "metadata": {},
   "outputs": [
    {
     "data": {
      "text/plain": [
       "(21153, 37045)"
      ]
     },
     "execution_count": 54,
     "metadata": {},
     "output_type": "execute_result"
    }
   ],
   "source": [
    "X_test.shape"
   ]
  },
  {
   "cell_type": "code",
   "execution_count": null,
   "metadata": {
    "collapsed": true
   },
   "outputs": [],
   "source": []
  },
  {
   "cell_type": "code",
   "execution_count": null,
   "metadata": {
    "collapsed": true
   },
   "outputs": [],
   "source": []
  }
 ],
 "metadata": {
  "kernelspec": {
   "display_name": "Python 3",
   "language": "python",
   "name": "python3"
  },
  "language_info": {
   "codemirror_mode": {
    "name": "ipython",
    "version": 3
   },
   "file_extension": ".py",
   "mimetype": "text/x-python",
   "name": "python",
   "nbconvert_exporter": "python",
   "pygments_lexer": "ipython3",
   "version": "3.6.4"
  }
 },
 "nbformat": 4,
 "nbformat_minor": 2
}
