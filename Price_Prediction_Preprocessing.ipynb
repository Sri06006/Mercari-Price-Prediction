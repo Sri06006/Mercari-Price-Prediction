{
 "cells": [
  {
   "cell_type": "code",
   "execution_count": 46,
   "metadata": {},
   "outputs": [],
   "source": [
    "import os\n",
    "import pandas as pd\n",
    "import numpy as np\n",
    "from keras.models import Sequential\n",
    "from keras.layers import Dense\n",
    "from keras.layers import LSTM\n",
    "from keras.layers.embeddings import Embedding\n",
    "from keras.layers import Dropout\n",
    "from keras.preprocessing import sequence\n",
    "from sklearn.feature_extraction.text import CountVectorizer, TfidfVectorizer\n",
    "from sklearn.feature_extraction.text import TfidfVectorizer\n",
    "\n",
    "import re\n",
    "import gc\n",
    "import scipy\n"
   ]
  },
  {
   "cell_type": "code",
   "execution_count": 47,
   "metadata": {
    "collapsed": true
   },
   "outputs": [],
   "source": [
    "os.getcwd()\n",
    "os.chdir(\"C:\\\\Users\\\\srita\\\\Python\\\\Kaggle\\\\Mercari Price Challenge\")"
   ]
  },
  {
   "cell_type": "code",
   "execution_count": 48,
   "metadata": {
    "collapsed": true
   },
   "outputs": [],
   "source": [
    "#Read the data\n",
    "df = pd.read_csv(\"train.tsv\",delimiter='\\t',encoding='utf-8')"
   ]
  },
  {
   "cell_type": "code",
   "execution_count": 49,
   "metadata": {},
   "outputs": [
    {
     "data": {
      "text/html": [
       "<div>\n",
       "<style scoped>\n",
       "    .dataframe tbody tr th:only-of-type {\n",
       "        vertical-align: middle;\n",
       "    }\n",
       "\n",
       "    .dataframe tbody tr th {\n",
       "        vertical-align: top;\n",
       "    }\n",
       "\n",
       "    .dataframe thead th {\n",
       "        text-align: right;\n",
       "    }\n",
       "</style>\n",
       "<table border=\"1\" class=\"dataframe\">\n",
       "  <thead>\n",
       "    <tr style=\"text-align: right;\">\n",
       "      <th></th>\n",
       "      <th>train_id</th>\n",
       "      <th>name</th>\n",
       "      <th>item_condition_id</th>\n",
       "      <th>category_name</th>\n",
       "      <th>brand_name</th>\n",
       "      <th>price</th>\n",
       "      <th>shipping</th>\n",
       "      <th>item_description</th>\n",
       "    </tr>\n",
       "  </thead>\n",
       "  <tbody>\n",
       "    <tr>\n",
       "      <th>774893</th>\n",
       "      <td>774893</td>\n",
       "      <td>Mario and luigi</td>\n",
       "      <td>1</td>\n",
       "      <td>Kids/Toys/Dress Up &amp; Pretend Play</td>\n",
       "      <td>NaN</td>\n",
       "      <td>18.0</td>\n",
       "      <td>1</td>\n",
       "      <td>Girls costumes. I can separate or i will sell ...</td>\n",
       "    </tr>\n",
       "    <tr>\n",
       "      <th>431736</th>\n",
       "      <td>431736</td>\n",
       "      <td>Air Jordan Baron 9</td>\n",
       "      <td>3</td>\n",
       "      <td>Men/Shoes/Athletic</td>\n",
       "      <td>Jordan</td>\n",
       "      <td>91.0</td>\n",
       "      <td>0</td>\n",
       "      <td>Sz 10.5 Good preowned condition Includes origi...</td>\n",
       "    </tr>\n",
       "    <tr>\n",
       "      <th>1482299</th>\n",
       "      <td>1482299</td>\n",
       "      <td>Dooney &amp; Bourke Wallet</td>\n",
       "      <td>3</td>\n",
       "      <td>Women/Women's Accessories/Wallets</td>\n",
       "      <td>Dooney &amp; Bourke</td>\n",
       "      <td>20.0</td>\n",
       "      <td>1</td>\n",
       "      <td>D&amp;B wallet with credit card slots and back coi...</td>\n",
       "    </tr>\n",
       "    <tr>\n",
       "      <th>764342</th>\n",
       "      <td>764342</td>\n",
       "      <td>Lululemon Floral Waistband Speed Tights</td>\n",
       "      <td>3</td>\n",
       "      <td>Women/Athletic Apparel/Pants, Tights, Leggings</td>\n",
       "      <td>Lululemon</td>\n",
       "      <td>66.0</td>\n",
       "      <td>0</td>\n",
       "      <td>This is a pair of size 6 speed tights in great...</td>\n",
       "    </tr>\n",
       "    <tr>\n",
       "      <th>781985</th>\n",
       "      <td>781985</td>\n",
       "      <td>American Eagle Top</td>\n",
       "      <td>2</td>\n",
       "      <td>Women/Athletic Apparel/Shirts &amp; Tops</td>\n",
       "      <td>American Eagle</td>\n",
       "      <td>19.0</td>\n",
       "      <td>0</td>\n",
       "      <td>AEO off the shoulder top size XL</td>\n",
       "    </tr>\n",
       "  </tbody>\n",
       "</table>\n",
       "</div>"
      ],
      "text/plain": [
       "         train_id                                     name  item_condition_id  \\\n",
       "774893     774893                          Mario and luigi                  1   \n",
       "431736     431736                       Air Jordan Baron 9                  3   \n",
       "1482299   1482299                   Dooney & Bourke Wallet                  3   \n",
       "764342     764342  Lululemon Floral Waistband Speed Tights                  3   \n",
       "781985     781985                       American Eagle Top                  2   \n",
       "\n",
       "                                          category_name       brand_name  \\\n",
       "774893                Kids/Toys/Dress Up & Pretend Play              NaN   \n",
       "431736                               Men/Shoes/Athletic           Jordan   \n",
       "1482299               Women/Women's Accessories/Wallets  Dooney & Bourke   \n",
       "764342   Women/Athletic Apparel/Pants, Tights, Leggings        Lululemon   \n",
       "781985             Women/Athletic Apparel/Shirts & Tops   American Eagle   \n",
       "\n",
       "         price  shipping                                   item_description  \n",
       "774893    18.0         1  Girls costumes. I can separate or i will sell ...  \n",
       "431736    91.0         0  Sz 10.5 Good preowned condition Includes origi...  \n",
       "1482299   20.0         1  D&B wallet with credit card slots and back coi...  \n",
       "764342    66.0         0  This is a pair of size 6 speed tights in great...  \n",
       "781985    19.0         0                   AEO off the shoulder top size XL  "
      ]
     },
     "execution_count": 49,
     "metadata": {},
     "output_type": "execute_result"
    }
   ],
   "source": [
    "# Sample the data to speed up computation\n",
    "df = df.sample(frac=0.1, random_state=10)\n",
    "\n",
    "df.head()"
   ]
  },
  {
   "cell_type": "code",
   "execution_count": 50,
   "metadata": {
    "collapsed": true
   },
   "outputs": [],
   "source": [
    "Y = df['price']\n"
   ]
  },
  {
   "cell_type": "markdown",
   "metadata": {},
   "source": [
    "## Pre processing"
   ]
  },
  {
   "cell_type": "markdown",
   "metadata": {},
   "source": [
    "### finding the item description length"
   ]
  },
  {
   "cell_type": "code",
   "execution_count": 51,
   "metadata": {},
   "outputs": [],
   "source": [
    "df['desc_len'] = df['item_description'].apply(lambda x: len([x for x in str(x).split()]))"
   ]
  },
  {
   "cell_type": "code",
   "execution_count": 52,
   "metadata": {},
   "outputs": [
    {
     "data": {
      "text/html": [
       "<div>\n",
       "<style scoped>\n",
       "    .dataframe tbody tr th:only-of-type {\n",
       "        vertical-align: middle;\n",
       "    }\n",
       "\n",
       "    .dataframe tbody tr th {\n",
       "        vertical-align: top;\n",
       "    }\n",
       "\n",
       "    .dataframe thead th {\n",
       "        text-align: right;\n",
       "    }\n",
       "</style>\n",
       "<table border=\"1\" class=\"dataframe\">\n",
       "  <thead>\n",
       "    <tr style=\"text-align: right;\">\n",
       "      <th></th>\n",
       "      <th>train_id</th>\n",
       "      <th>name</th>\n",
       "      <th>item_condition_id</th>\n",
       "      <th>category_name</th>\n",
       "      <th>brand_name</th>\n",
       "      <th>price</th>\n",
       "      <th>shipping</th>\n",
       "      <th>item_description</th>\n",
       "      <th>desc_len</th>\n",
       "    </tr>\n",
       "  </thead>\n",
       "  <tbody>\n",
       "    <tr>\n",
       "      <th>774893</th>\n",
       "      <td>774893</td>\n",
       "      <td>Mario and luigi</td>\n",
       "      <td>1</td>\n",
       "      <td>Kids/Toys/Dress Up &amp; Pretend Play</td>\n",
       "      <td>NaN</td>\n",
       "      <td>18.0</td>\n",
       "      <td>1</td>\n",
       "      <td>Girls costumes. I can separate or i will sell ...</td>\n",
       "      <td>27</td>\n",
       "    </tr>\n",
       "    <tr>\n",
       "      <th>431736</th>\n",
       "      <td>431736</td>\n",
       "      <td>Air Jordan Baron 9</td>\n",
       "      <td>3</td>\n",
       "      <td>Men/Shoes/Athletic</td>\n",
       "      <td>Jordan</td>\n",
       "      <td>91.0</td>\n",
       "      <td>0</td>\n",
       "      <td>Sz 10.5 Good preowned condition Includes origi...</td>\n",
       "      <td>17</td>\n",
       "    </tr>\n",
       "    <tr>\n",
       "      <th>1482299</th>\n",
       "      <td>1482299</td>\n",
       "      <td>Dooney &amp; Bourke Wallet</td>\n",
       "      <td>3</td>\n",
       "      <td>Women/Women's Accessories/Wallets</td>\n",
       "      <td>Dooney &amp; Bourke</td>\n",
       "      <td>20.0</td>\n",
       "      <td>1</td>\n",
       "      <td>D&amp;B wallet with credit card slots and back coi...</td>\n",
       "      <td>11</td>\n",
       "    </tr>\n",
       "    <tr>\n",
       "      <th>764342</th>\n",
       "      <td>764342</td>\n",
       "      <td>Lululemon Floral Waistband Speed Tights</td>\n",
       "      <td>3</td>\n",
       "      <td>Women/Athletic Apparel/Pants, Tights, Leggings</td>\n",
       "      <td>Lululemon</td>\n",
       "      <td>66.0</td>\n",
       "      <td>0</td>\n",
       "      <td>This is a pair of size 6 speed tights in great...</td>\n",
       "      <td>53</td>\n",
       "    </tr>\n",
       "    <tr>\n",
       "      <th>781985</th>\n",
       "      <td>781985</td>\n",
       "      <td>American Eagle Top</td>\n",
       "      <td>2</td>\n",
       "      <td>Women/Athletic Apparel/Shirts &amp; Tops</td>\n",
       "      <td>American Eagle</td>\n",
       "      <td>19.0</td>\n",
       "      <td>0</td>\n",
       "      <td>AEO off the shoulder top size XL</td>\n",
       "      <td>7</td>\n",
       "    </tr>\n",
       "  </tbody>\n",
       "</table>\n",
       "</div>"
      ],
      "text/plain": [
       "         train_id                                     name  item_condition_id  \\\n",
       "774893     774893                          Mario and luigi                  1   \n",
       "431736     431736                       Air Jordan Baron 9                  3   \n",
       "1482299   1482299                   Dooney & Bourke Wallet                  3   \n",
       "764342     764342  Lululemon Floral Waistband Speed Tights                  3   \n",
       "781985     781985                       American Eagle Top                  2   \n",
       "\n",
       "                                          category_name       brand_name  \\\n",
       "774893                Kids/Toys/Dress Up & Pretend Play              NaN   \n",
       "431736                               Men/Shoes/Athletic           Jordan   \n",
       "1482299               Women/Women's Accessories/Wallets  Dooney & Bourke   \n",
       "764342   Women/Athletic Apparel/Pants, Tights, Leggings        Lululemon   \n",
       "781985             Women/Athletic Apparel/Shirts & Tops   American Eagle   \n",
       "\n",
       "         price  shipping                                   item_description  \\\n",
       "774893    18.0         1  Girls costumes. I can separate or i will sell ...   \n",
       "431736    91.0         0  Sz 10.5 Good preowned condition Includes origi...   \n",
       "1482299   20.0         1  D&B wallet with credit card slots and back coi...   \n",
       "764342    66.0         0  This is a pair of size 6 speed tights in great...   \n",
       "781985    19.0         0                   AEO off the shoulder top size XL   \n",
       "\n",
       "         desc_len  \n",
       "774893         27  \n",
       "431736         17  \n",
       "1482299        11  \n",
       "764342         53  \n",
       "781985          7  "
      ]
     },
     "execution_count": 52,
     "metadata": {},
     "output_type": "execute_result"
    }
   ],
   "source": [
    "df.head()"
   ]
  },
  {
   "cell_type": "code",
   "execution_count": 53,
   "metadata": {},
   "outputs": [],
   "source": [
    "df.drop('train_id', axis=1,inplace=True)\n",
    "df.drop('name',axis=1,inplace=True)"
   ]
  },
  {
   "cell_type": "code",
   "execution_count": 54,
   "metadata": {},
   "outputs": [
    {
     "data": {
      "text/html": [
       "<div>\n",
       "<style scoped>\n",
       "    .dataframe tbody tr th:only-of-type {\n",
       "        vertical-align: middle;\n",
       "    }\n",
       "\n",
       "    .dataframe tbody tr th {\n",
       "        vertical-align: top;\n",
       "    }\n",
       "\n",
       "    .dataframe thead th {\n",
       "        text-align: right;\n",
       "    }\n",
       "</style>\n",
       "<table border=\"1\" class=\"dataframe\">\n",
       "  <thead>\n",
       "    <tr style=\"text-align: right;\">\n",
       "      <th></th>\n",
       "      <th>item_condition_id</th>\n",
       "      <th>category_name</th>\n",
       "      <th>brand_name</th>\n",
       "      <th>price</th>\n",
       "      <th>shipping</th>\n",
       "      <th>item_description</th>\n",
       "      <th>desc_len</th>\n",
       "    </tr>\n",
       "  </thead>\n",
       "  <tbody>\n",
       "    <tr>\n",
       "      <th>774893</th>\n",
       "      <td>1</td>\n",
       "      <td>Kids/Toys/Dress Up &amp; Pretend Play</td>\n",
       "      <td>NaN</td>\n",
       "      <td>18.0</td>\n",
       "      <td>1</td>\n",
       "      <td>Girls costumes. I can separate or i will sell ...</td>\n",
       "      <td>27</td>\n",
       "    </tr>\n",
       "    <tr>\n",
       "      <th>431736</th>\n",
       "      <td>3</td>\n",
       "      <td>Men/Shoes/Athletic</td>\n",
       "      <td>Jordan</td>\n",
       "      <td>91.0</td>\n",
       "      <td>0</td>\n",
       "      <td>Sz 10.5 Good preowned condition Includes origi...</td>\n",
       "      <td>17</td>\n",
       "    </tr>\n",
       "    <tr>\n",
       "      <th>1482299</th>\n",
       "      <td>3</td>\n",
       "      <td>Women/Women's Accessories/Wallets</td>\n",
       "      <td>Dooney &amp; Bourke</td>\n",
       "      <td>20.0</td>\n",
       "      <td>1</td>\n",
       "      <td>D&amp;B wallet with credit card slots and back coi...</td>\n",
       "      <td>11</td>\n",
       "    </tr>\n",
       "    <tr>\n",
       "      <th>764342</th>\n",
       "      <td>3</td>\n",
       "      <td>Women/Athletic Apparel/Pants, Tights, Leggings</td>\n",
       "      <td>Lululemon</td>\n",
       "      <td>66.0</td>\n",
       "      <td>0</td>\n",
       "      <td>This is a pair of size 6 speed tights in great...</td>\n",
       "      <td>53</td>\n",
       "    </tr>\n",
       "    <tr>\n",
       "      <th>781985</th>\n",
       "      <td>2</td>\n",
       "      <td>Women/Athletic Apparel/Shirts &amp; Tops</td>\n",
       "      <td>American Eagle</td>\n",
       "      <td>19.0</td>\n",
       "      <td>0</td>\n",
       "      <td>AEO off the shoulder top size XL</td>\n",
       "      <td>7</td>\n",
       "    </tr>\n",
       "  </tbody>\n",
       "</table>\n",
       "</div>"
      ],
      "text/plain": [
       "         item_condition_id                                   category_name  \\\n",
       "774893                   1               Kids/Toys/Dress Up & Pretend Play   \n",
       "431736                   3                              Men/Shoes/Athletic   \n",
       "1482299                  3               Women/Women's Accessories/Wallets   \n",
       "764342                   3  Women/Athletic Apparel/Pants, Tights, Leggings   \n",
       "781985                   2            Women/Athletic Apparel/Shirts & Tops   \n",
       "\n",
       "              brand_name  price  shipping  \\\n",
       "774893               NaN   18.0         1   \n",
       "431736            Jordan   91.0         0   \n",
       "1482299  Dooney & Bourke   20.0         1   \n",
       "764342         Lululemon   66.0         0   \n",
       "781985    American Eagle   19.0         0   \n",
       "\n",
       "                                          item_description  desc_len  \n",
       "774893   Girls costumes. I can separate or i will sell ...        27  \n",
       "431736   Sz 10.5 Good preowned condition Includes origi...        17  \n",
       "1482299  D&B wallet with credit card slots and back coi...        11  \n",
       "764342   This is a pair of size 6 speed tights in great...        53  \n",
       "781985                    AEO off the shoulder top size XL         7  "
      ]
     },
     "execution_count": 54,
     "metadata": {},
     "output_type": "execute_result"
    }
   ],
   "source": [
    "df.head()"
   ]
  },
  {
   "cell_type": "code",
   "execution_count": 55,
   "metadata": {
    "collapsed": true
   },
   "outputs": [],
   "source": [
    "Y = df['price']"
   ]
  },
  {
   "cell_type": "code",
   "execution_count": 56,
   "metadata": {},
   "outputs": [],
   "source": [
    "X = df[['item_condition_id','category_name','brand_name','shipping','item_description']]"
   ]
  },
  {
   "cell_type": "code",
   "execution_count": 57,
   "metadata": {
    "scrolled": true
   },
   "outputs": [
    {
     "name": "stderr",
     "output_type": "stream",
     "text": [
      "C:\\Users\\srita\\Anaconda3\\lib\\site-packages\\ipykernel_launcher.py:2: SettingWithCopyWarning: \n",
      "A value is trying to be set on a copy of a slice from a DataFrame.\n",
      "Try using .loc[row_indexer,col_indexer] = value instead\n",
      "\n",
      "See the caveats in the documentation: http://pandas.pydata.org/pandas-docs/stable/indexing.html#indexing-view-versus-copy\n",
      "  \n",
      "C:\\Users\\srita\\Anaconda3\\lib\\site-packages\\ipykernel_launcher.py:3: SettingWithCopyWarning: \n",
      "A value is trying to be set on a copy of a slice from a DataFrame.\n",
      "Try using .loc[row_indexer,col_indexer] = value instead\n",
      "\n",
      "See the caveats in the documentation: http://pandas.pydata.org/pandas-docs/stable/indexing.html#indexing-view-versus-copy\n",
      "  This is separate from the ipykernel package so we can avoid doing imports until\n"
     ]
    }
   ],
   "source": [
    "X.dtypes\n",
    "X['item_condition_id'] = X['item_condition_id'].astype('category')\n",
    "X['shipping'] = X['shipping'].astype('category')"
   ]
  },
  {
   "cell_type": "code",
   "execution_count": 58,
   "metadata": {},
   "outputs": [
    {
     "name": "stderr",
     "output_type": "stream",
     "text": [
      "C:\\Users\\srita\\Anaconda3\\lib\\site-packages\\ipykernel_launcher.py:1: SettingWithCopyWarning: \n",
      "A value is trying to be set on a copy of a slice from a DataFrame.\n",
      "Try using .loc[row_indexer,col_indexer] = value instead\n",
      "\n",
      "See the caveats in the documentation: http://pandas.pydata.org/pandas-docs/stable/indexing.html#indexing-view-versus-copy\n",
      "  \"\"\"Entry point for launching an IPython kernel.\n"
     ]
    }
   ],
   "source": [
    "X['category_name'] = X['category_name'].astype('category')\n"
   ]
  },
  {
   "cell_type": "code",
   "execution_count": 59,
   "metadata": {},
   "outputs": [
    {
     "name": "stderr",
     "output_type": "stream",
     "text": [
      "C:\\Users\\srita\\Anaconda3\\lib\\site-packages\\ipykernel_launcher.py:1: FutureWarning: currently extract(expand=None) means expand=False (return Index/Series/DataFrame) but in a future version of pandas this will be changed to expand=True (return DataFrame)\n",
      "  \"\"\"Entry point for launching an IPython kernel.\n",
      "C:\\Users\\srita\\Anaconda3\\lib\\site-packages\\ipykernel_launcher.py:1: SettingWithCopyWarning: \n",
      "A value is trying to be set on a copy of a slice from a DataFrame.\n",
      "Try using .loc[row_indexer,col_indexer] = value instead\n",
      "\n",
      "See the caveats in the documentation: http://pandas.pydata.org/pandas-docs/stable/indexing.html#indexing-view-versus-copy\n",
      "  \"\"\"Entry point for launching an IPython kernel.\n",
      "C:\\Users\\srita\\Anaconda3\\lib\\site-packages\\ipykernel_launcher.py:2: FutureWarning: currently extract(expand=None) means expand=False (return Index/Series/DataFrame) but in a future version of pandas this will be changed to expand=True (return DataFrame)\n",
      "  \n",
      "C:\\Users\\srita\\Anaconda3\\lib\\site-packages\\ipykernel_launcher.py:3: FutureWarning: currently extract(expand=None) means expand=False (return Index/Series/DataFrame) but in a future version of pandas this will be changed to expand=True (return DataFrame)\n",
      "  This is separate from the ipykernel package so we can avoid doing imports until\n"
     ]
    },
    {
     "data": {
      "text/html": [
       "<div>\n",
       "<style scoped>\n",
       "    .dataframe tbody tr th:only-of-type {\n",
       "        vertical-align: middle;\n",
       "    }\n",
       "\n",
       "    .dataframe tbody tr th {\n",
       "        vertical-align: top;\n",
       "    }\n",
       "\n",
       "    .dataframe thead th {\n",
       "        text-align: right;\n",
       "    }\n",
       "</style>\n",
       "<table border=\"1\" class=\"dataframe\">\n",
       "  <thead>\n",
       "    <tr style=\"text-align: right;\">\n",
       "      <th></th>\n",
       "      <th>item_condition_id</th>\n",
       "      <th>category_name</th>\n",
       "      <th>brand_name</th>\n",
       "      <th>shipping</th>\n",
       "      <th>item_description</th>\n",
       "      <th>category1</th>\n",
       "      <th>subcat2</th>\n",
       "      <th>subcat3</th>\n",
       "    </tr>\n",
       "  </thead>\n",
       "  <tbody>\n",
       "    <tr>\n",
       "      <th>774893</th>\n",
       "      <td>1</td>\n",
       "      <td>Kids/Toys/Dress Up &amp; Pretend Play</td>\n",
       "      <td>NaN</td>\n",
       "      <td>1</td>\n",
       "      <td>Girls costumes. I can separate or i will sell ...</td>\n",
       "      <td>Kids</td>\n",
       "      <td>Toys</td>\n",
       "      <td>Dress Up &amp; Pretend Play</td>\n",
       "    </tr>\n",
       "    <tr>\n",
       "      <th>431736</th>\n",
       "      <td>3</td>\n",
       "      <td>Men/Shoes/Athletic</td>\n",
       "      <td>Jordan</td>\n",
       "      <td>0</td>\n",
       "      <td>Sz 10.5 Good preowned condition Includes origi...</td>\n",
       "      <td>Men</td>\n",
       "      <td>Shoes</td>\n",
       "      <td>Athletic</td>\n",
       "    </tr>\n",
       "    <tr>\n",
       "      <th>1482299</th>\n",
       "      <td>3</td>\n",
       "      <td>Women/Women's Accessories/Wallets</td>\n",
       "      <td>Dooney &amp; Bourke</td>\n",
       "      <td>1</td>\n",
       "      <td>D&amp;B wallet with credit card slots and back coi...</td>\n",
       "      <td>Women</td>\n",
       "      <td>Women's Accessories</td>\n",
       "      <td>Wallets</td>\n",
       "    </tr>\n",
       "    <tr>\n",
       "      <th>764342</th>\n",
       "      <td>3</td>\n",
       "      <td>Women/Athletic Apparel/Pants, Tights, Leggings</td>\n",
       "      <td>Lululemon</td>\n",
       "      <td>0</td>\n",
       "      <td>This is a pair of size 6 speed tights in great...</td>\n",
       "      <td>Women</td>\n",
       "      <td>Athletic Apparel</td>\n",
       "      <td>Pants, Tights, Leggings</td>\n",
       "    </tr>\n",
       "    <tr>\n",
       "      <th>781985</th>\n",
       "      <td>2</td>\n",
       "      <td>Women/Athletic Apparel/Shirts &amp; Tops</td>\n",
       "      <td>American Eagle</td>\n",
       "      <td>0</td>\n",
       "      <td>AEO off the shoulder top size XL</td>\n",
       "      <td>Women</td>\n",
       "      <td>Athletic Apparel</td>\n",
       "      <td>Shirts &amp; Tops</td>\n",
       "    </tr>\n",
       "  </tbody>\n",
       "</table>\n",
       "</div>"
      ],
      "text/plain": [
       "        item_condition_id                                   category_name  \\\n",
       "774893                  1               Kids/Toys/Dress Up & Pretend Play   \n",
       "431736                  3                              Men/Shoes/Athletic   \n",
       "1482299                 3               Women/Women's Accessories/Wallets   \n",
       "764342                  3  Women/Athletic Apparel/Pants, Tights, Leggings   \n",
       "781985                  2            Women/Athletic Apparel/Shirts & Tops   \n",
       "\n",
       "              brand_name shipping  \\\n",
       "774893               NaN        1   \n",
       "431736            Jordan        0   \n",
       "1482299  Dooney & Bourke        1   \n",
       "764342         Lululemon        0   \n",
       "781985    American Eagle        0   \n",
       "\n",
       "                                          item_description category1  \\\n",
       "774893   Girls costumes. I can separate or i will sell ...      Kids   \n",
       "431736   Sz 10.5 Good preowned condition Includes origi...       Men   \n",
       "1482299  D&B wallet with credit card slots and back coi...     Women   \n",
       "764342   This is a pair of size 6 speed tights in great...     Women   \n",
       "781985                    AEO off the shoulder top size XL     Women   \n",
       "\n",
       "                     subcat2                  subcat3  \n",
       "774893                  Toys  Dress Up & Pretend Play  \n",
       "431736                 Shoes                 Athletic  \n",
       "1482299  Women's Accessories                  Wallets  \n",
       "764342      Athletic Apparel  Pants, Tights, Leggings  \n",
       "781985      Athletic Apparel            Shirts & Tops  "
      ]
     },
     "execution_count": 59,
     "metadata": {},
     "output_type": "execute_result"
    }
   ],
   "source": [
    "X['category1'] = X.category_name.str.extract('([^/]+)/[^/]+/[^/]+')\n",
    "X['subcat2'] = X.category_name.str.extract('[^/]+/([^/]+)/[^/]+')\n",
    "X['subcat3'] = X.category_name.str.extract('[^/]+/[^/]+/([^/]+)')\n",
    "X.head()"
   ]
  },
  {
   "cell_type": "markdown",
   "metadata": {},
   "source": [
    "### average item description "
   ]
  },
  {
   "cell_type": "code",
   "execution_count": 60,
   "metadata": {
    "collapsed": true
   },
   "outputs": [],
   "source": [
    "def avg_words(sentence):\n",
    "    words = str(sentence).split()\n",
    "    return (sum(len(word) for word in words)/len(words))\n",
    "    "
   ]
  },
  {
   "cell_type": "code",
   "execution_count": 61,
   "metadata": {},
   "outputs": [],
   "source": [
    "X['avg_desc_len'] = X['item_description'].apply(lambda x: avg_words(x))"
   ]
  },
  {
   "cell_type": "code",
   "execution_count": 62,
   "metadata": {},
   "outputs": [
    {
     "data": {
      "text/html": [
       "<div>\n",
       "<style scoped>\n",
       "    .dataframe tbody tr th:only-of-type {\n",
       "        vertical-align: middle;\n",
       "    }\n",
       "\n",
       "    .dataframe tbody tr th {\n",
       "        vertical-align: top;\n",
       "    }\n",
       "\n",
       "    .dataframe thead th {\n",
       "        text-align: right;\n",
       "    }\n",
       "</style>\n",
       "<table border=\"1\" class=\"dataframe\">\n",
       "  <thead>\n",
       "    <tr style=\"text-align: right;\">\n",
       "      <th></th>\n",
       "      <th>item_description</th>\n",
       "      <th>avg_desc_len</th>\n",
       "    </tr>\n",
       "  </thead>\n",
       "  <tbody>\n",
       "    <tr>\n",
       "      <th>774893</th>\n",
       "      <td>Girls costumes. I can separate or i will sell ...</td>\n",
       "      <td>3.925926</td>\n",
       "    </tr>\n",
       "    <tr>\n",
       "      <th>431736</th>\n",
       "      <td>Sz 10.5 Good preowned condition Includes origi...</td>\n",
       "      <td>5.470588</td>\n",
       "    </tr>\n",
       "    <tr>\n",
       "      <th>1482299</th>\n",
       "      <td>D&amp;B wallet with credit card slots and back coi...</td>\n",
       "      <td>4.545455</td>\n",
       "    </tr>\n",
       "    <tr>\n",
       "      <th>764342</th>\n",
       "      <td>This is a pair of size 6 speed tights in great...</td>\n",
       "      <td>4.113208</td>\n",
       "    </tr>\n",
       "    <tr>\n",
       "      <th>781985</th>\n",
       "      <td>AEO off the shoulder top size XL</td>\n",
       "      <td>3.714286</td>\n",
       "    </tr>\n",
       "  </tbody>\n",
       "</table>\n",
       "</div>"
      ],
      "text/plain": [
       "                                          item_description  avg_desc_len\n",
       "774893   Girls costumes. I can separate or i will sell ...      3.925926\n",
       "431736   Sz 10.5 Good preowned condition Includes origi...      5.470588\n",
       "1482299  D&B wallet with credit card slots and back coi...      4.545455\n",
       "764342   This is a pair of size 6 speed tights in great...      4.113208\n",
       "781985                    AEO off the shoulder top size XL      3.714286"
      ]
     },
     "execution_count": 62,
     "metadata": {},
     "output_type": "execute_result"
    }
   ],
   "source": [
    "X[['item_description','avg_desc_len']].head()"
   ]
  },
  {
   "cell_type": "markdown",
   "metadata": {},
   "source": [
    "### find the price description in Item description"
   ]
  },
  {
   "cell_type": "code",
   "execution_count": 63,
   "metadata": {},
   "outputs": [],
   "source": [
    "X['digits_description'] = X['item_description'].apply(lambda x: [x for x in str(x).split() if x.isdigit()])"
   ]
  },
  {
   "cell_type": "code",
   "execution_count": 65,
   "metadata": {},
   "outputs": [
    {
     "data": {
      "text/html": [
       "<div>\n",
       "<style scoped>\n",
       "    .dataframe tbody tr th:only-of-type {\n",
       "        vertical-align: middle;\n",
       "    }\n",
       "\n",
       "    .dataframe tbody tr th {\n",
       "        vertical-align: top;\n",
       "    }\n",
       "\n",
       "    .dataframe thead th {\n",
       "        text-align: right;\n",
       "    }\n",
       "</style>\n",
       "<table border=\"1\" class=\"dataframe\">\n",
       "  <thead>\n",
       "    <tr style=\"text-align: right;\">\n",
       "      <th></th>\n",
       "      <th>item_description</th>\n",
       "      <th>digits_description</th>\n",
       "    </tr>\n",
       "  </thead>\n",
       "  <tbody>\n",
       "    <tr>\n",
       "      <th>774893</th>\n",
       "      <td>Girls costumes. I can separate or i will sell ...</td>\n",
       "      <td>[4]</td>\n",
       "    </tr>\n",
       "    <tr>\n",
       "      <th>431736</th>\n",
       "      <td>Sz 10.5 Good preowned condition Includes origi...</td>\n",
       "      <td>[24]</td>\n",
       "    </tr>\n",
       "    <tr>\n",
       "      <th>1482299</th>\n",
       "      <td>D&amp;B wallet with credit card slots and back coi...</td>\n",
       "      <td>[]</td>\n",
       "    </tr>\n",
       "    <tr>\n",
       "      <th>764342</th>\n",
       "      <td>This is a pair of size 6 speed tights in great...</td>\n",
       "      <td>[6]</td>\n",
       "    </tr>\n",
       "    <tr>\n",
       "      <th>781985</th>\n",
       "      <td>AEO off the shoulder top size XL</td>\n",
       "      <td>[]</td>\n",
       "    </tr>\n",
       "  </tbody>\n",
       "</table>\n",
       "</div>"
      ],
      "text/plain": [
       "                                          item_description digits_description\n",
       "774893   Girls costumes. I can separate or i will sell ...                [4]\n",
       "431736   Sz 10.5 Good preowned condition Includes origi...               [24]\n",
       "1482299  D&B wallet with credit card slots and back coi...                 []\n",
       "764342   This is a pair of size 6 speed tights in great...                [6]\n",
       "781985                    AEO off the shoulder top size XL                 []"
      ]
     },
     "execution_count": 65,
     "metadata": {},
     "output_type": "execute_result"
    }
   ],
   "source": [
    "X[['item_description','digits_description']].head()"
   ]
  },
  {
   "cell_type": "code",
   "execution_count": null,
   "metadata": {
    "collapsed": true
   },
   "outputs": [],
   "source": []
  }
 ],
 "metadata": {
  "kernelspec": {
   "display_name": "Python 3",
   "language": "python",
   "name": "python3"
  },
  "language_info": {
   "codemirror_mode": {
    "name": "ipython",
    "version": 3
   },
   "file_extension": ".py",
   "mimetype": "text/x-python",
   "name": "python",
   "nbconvert_exporter": "python",
   "pygments_lexer": "ipython3",
   "version": "3.6.4"
  }
 },
 "nbformat": 4,
 "nbformat_minor": 2
}
